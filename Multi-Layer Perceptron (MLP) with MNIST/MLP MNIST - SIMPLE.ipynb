{
 "cells": [
  {
   "cell_type": "markdown",
   "metadata": {},
   "source": [
    "# MULTI-LAYER PERCEPTRON MNIST"
   ]
  },
  {
   "cell_type": "code",
   "execution_count": 1,
   "metadata": {
    "collapsed": false
   },
   "outputs": [
    {
     "name": "stderr",
     "output_type": "stream",
     "text": [
      "C:\\Users\\StrikeWade\\Anaconda3\\lib\\site-packages\\h5py\\__init__.py:36: FutureWarning: Conversion of the second argument of issubdtype from `float` to `np.floating` is deprecated. In future, it will be treated as `np.float64 == np.dtype(float).type`.\n",
      "  from ._conv import register_converters as _register_converters\n",
      "Using TensorFlow backend.\n"
     ]
    }
   ],
   "source": [
    "import numpy as np\n",
    "import tensorflow as tf\n",
    "import matplotlib.pyplot as plt\n",
    "from tensorflow.examples.tutorials.mnist import input_data\n",
    "%matplotlib inline\n",
    "\n",
    "from keras import backend as K\n",
    "\n",
    "#Clear TF memory\n",
    "cfg = K.tf.ConfigProto()\n",
    "cfg.gpu_options.allow_growth = True\n",
    "K.set_session(K.tf.Session(config=cfg))"
   ]
  },
  {
   "cell_type": "markdown",
   "metadata": {},
   "source": [
    "# Load MNIST"
   ]
  },
  {
   "cell_type": "code",
   "execution_count": 2,
   "metadata": {
    "collapsed": false
   },
   "outputs": [
    {
     "name": "stdout",
     "output_type": "stream",
     "text": [
      "Extracting /Basic TF & thing/mnist/train-images-idx3-ubyte.gz\n",
      "Extracting /Basic TF & thing/mnist/train-labels-idx1-ubyte.gz\n",
      "Extracting /Basic TF & thing/mnist/t10k-images-idx3-ubyte.gz\n",
      "Extracting /Basic TF & thing/mnist/t10k-labels-idx1-ubyte.gz\n"
     ]
    }
   ],
   "source": [
    "mnist = input_data.read_data_sets('/Basic TF & thing/mnist/', one_hot=True)"
   ]
  },
  {
   "cell_type": "markdown",
   "metadata": {},
   "source": [
    "# Define model's parameters"
   ]
  },
  {
   "cell_type": "code",
   "execution_count": 3,
   "metadata": {
    "collapsed": true
   },
   "outputs": [],
   "source": [
    "#Params\n",
    "learning_rate = 0.001\n",
    "epochs = 50\n",
    "batch_size = 128\n",
    "display_step = 10\n",
    "\n",
    "#Network parameters\n",
    "n_hidden_1 = 256 #256 neurons in hidden layer 1\n",
    "n_hidden_2 = 128 #128 neurons in hidden layer 2\n",
    "n_input = 784    #Input features (imageshape 28*28*1 )\n",
    "n_classes = 10   #Number digits label 0->9\n",
    "\n",
    "#Placeholder\n",
    "x = tf.placeholder(dtype=tf.float32, shape=[None, n_input])\n",
    "y = tf.placeholder(dtype=tf.float32, shape=[None, n_classes])\n",
    "\n",
    "#Weights & biases of each layer\n",
    "stddev = 0.1\n",
    "\n",
    "weights = {\n",
    "    'h1': tf.Variable(tf.random_normal(shape=[n_input, n_hidden_1], stddev=stddev)),\n",
    "    'h2': tf.Variable(tf.random_normal(shape=[n_hidden_1, n_hidden_2], stddev=stddev)),\n",
    "    'out': tf.Variable(tf.random_normal(shape=[n_hidden_2, n_classes], stddev=stddev))\n",
    "}\n",
    "\n",
    "biases = {\n",
    "    'b1': tf.Variable(tf.random_normal(shape=[n_hidden_1])),\n",
    "    'b2': tf.Variable(tf.random_normal(shape=[n_hidden_2])),\n",
    "    'out': tf.Variable(tf.random_normal(shape=[n_classes]))\n",
    "}"
   ]
  },
  {
   "cell_type": "markdown",
   "metadata": {},
   "source": [
    "# MLP function"
   ]
  },
  {
   "cell_type": "code",
   "execution_count": 4,
   "metadata": {
    "collapsed": true
   },
   "outputs": [],
   "source": [
    "def multilayer_perceptron(x, weights, biases):\n",
    "    layer_1 = tf.nn.sigmoid(tf.add(tf.matmul(x, weights['h1']), biases['b1']))\n",
    "    layer_2 = tf.nn.sigmoid(tf.add(tf.matmul(layer_1, weights['h2']), biases['b2']))\n",
    "    return tf.matmul(layer_2, weights['out']) + biases['out']"
   ]
  },
  {
   "cell_type": "markdown",
   "metadata": {},
   "source": [
    "# Define other functions for the training"
   ]
  },
  {
   "cell_type": "code",
   "execution_count": null,
   "metadata": {
    "collapsed": false
   },
   "outputs": [
    {
     "name": "stdout",
     "output_type": "stream",
     "text": [
      "WARNING:tensorflow:From <ipython-input-5-d01fffef4e59>:5: softmax_cross_entropy_with_logits (from tensorflow.python.ops.nn_ops) is deprecated and will be removed in a future version.\n",
      "Instructions for updating:\n",
      "\n",
      "Future major versions of TensorFlow will allow gradients to flow\n",
      "into the labels input on backprop by default.\n",
      "\n",
      "See tf.nn.softmax_cross_entropy_with_logits_v2.\n",
      "\n"
     ]
    }
   ],
   "source": [
    "#Predicton function\n",
    "y_pred = multilayer_perceptron(x, weights, biases)\n",
    "\n",
    "#Loss and Optimizer function\n",
    "loss = tf.reduce_mean(tf.nn.softmax_cross_entropy_with_logits(logits=y_pred, labels=y))\n",
    "optimizer = tf.train.AdamOptimizer(learning_rate=learning_rate).minimize(loss)\n",
    "\n",
    "#Correct prediction and Accuracy function\n",
    "correct_prediction = tf.equal(tf.argmax(y_pred, 1), tf.argmax(y, 1))\n",
    "accuracy = tf.reduce_mean(tf.cast(correct_prediction, dtype=tf.float32))\n",
    "\n",
    "#Init\n",
    "init = tf.global_variables_initializer()"
   ]
  },
  {
   "cell_type": "markdown",
   "metadata": {},
   "source": [
    "# Training phase "
   ]
  },
  {
   "cell_type": "code",
   "execution_count": null,
   "metadata": {
    "collapsed": false
   },
   "outputs": [
    {
     "name": "stdout",
     "output_type": "stream",
     "text": [
      "Epoch: 009/050,    loss= 0.038384706\n",
      "    Train accuracy= 1.000\n",
      "    Test accuracy= 0.977\n",
      "Epoch: 019/050,    loss= 0.003963476\n",
      "    Train accuracy= 1.000\n",
      "    Test accuracy= 0.980\n",
      "Epoch: 029/050,    loss= 0.000428097\n",
      "    Train accuracy= 1.000\n",
      "    Test accuracy= 0.982\n",
      "Epoch: 039/050,    loss= 0.000133759\n",
      "    Train accuracy= 1.000\n",
      "    Test accuracy= 0.982\n"
     ]
    }
   ],
   "source": [
    "#Launch the graph session and run Init global variables\n",
    "sess = tf.Session()\n",
    "sess.run(init)\n",
    "\n",
    "#Training phase\n",
    "for epoch in range(epochs):\n",
    "    avg_loss = 0\n",
    "    total_batch = int(mnist.train.num_examples / batch_size)\n",
    "    #Iteration over all the batch\n",
    "    for i in range(total_batch):\n",
    "        #Each batch for the iteration\n",
    "        batch_x, batch_y = mnist.train.next_batch(batch_size)\n",
    "        #Run the optimizer on each batch\n",
    "        sess.run(optimizer, feed_dict={x: batch_x, y: batch_y})\n",
    "        #Calculate the avg_loss on each batch\n",
    "        avg_loss += sess.run(loss, feed_dict={x: batch_x, y: batch_y})\n",
    "    #Calculate the avg_loss for all of the iterated batch\n",
    "    avg_loss = avg_loss / total_batch\n",
    "    \n",
    "    #Display the result\n",
    "    if (epoch+1) % display_step == 0:\n",
    "        print('Epoch: %03d/%03d,    loss= %.9f' % (epoch, epochs, avg_loss))\n",
    "        train_accuracy = sess.run(accuracy, feed_dict={x: batch_x, y: batch_y})\n",
    "        test_accuracy = sess.run(accuracy, feed_dict={x: mnist.test.images, y: mnist.test.labels})\n",
    "        \n",
    "        print('    Train accuracy= %.3f\\n    Test accuracy= %.3f' % (train_accuracy, test_accuracy))"
   ]
  },
  {
   "cell_type": "code",
   "execution_count": null,
   "metadata": {
    "collapsed": true
   },
   "outputs": [],
   "source": []
  },
  {
   "cell_type": "code",
   "execution_count": null,
   "metadata": {
    "collapsed": true
   },
   "outputs": [],
   "source": []
  },
  {
   "cell_type": "code",
   "execution_count": null,
   "metadata": {
    "collapsed": true
   },
   "outputs": [],
   "source": []
  },
  {
   "cell_type": "code",
   "execution_count": null,
   "metadata": {
    "collapsed": true
   },
   "outputs": [],
   "source": []
  },
  {
   "cell_type": "code",
   "execution_count": null,
   "metadata": {
    "collapsed": true
   },
   "outputs": [],
   "source": []
  },
  {
   "cell_type": "code",
   "execution_count": null,
   "metadata": {
    "collapsed": true
   },
   "outputs": [],
   "source": []
  },
  {
   "cell_type": "code",
   "execution_count": null,
   "metadata": {
    "collapsed": true
   },
   "outputs": [],
   "source": []
  },
  {
   "cell_type": "code",
   "execution_count": null,
   "metadata": {
    "collapsed": true
   },
   "outputs": [],
   "source": []
  },
  {
   "cell_type": "code",
   "execution_count": null,
   "metadata": {
    "collapsed": true
   },
   "outputs": [],
   "source": []
  }
 ],
 "metadata": {
  "anaconda-cloud": {},
  "kernelspec": {
   "display_name": "Python [conda root]",
   "language": "python",
   "name": "conda-root-py"
  },
  "language_info": {
   "codemirror_mode": {
    "name": "ipython",
    "version": 3
   },
   "file_extension": ".py",
   "mimetype": "text/x-python",
   "name": "python",
   "nbconvert_exporter": "python",
   "pygments_lexer": "ipython3",
   "version": "3.5.2"
  }
 },
 "nbformat": 4,
 "nbformat_minor": 1
}
