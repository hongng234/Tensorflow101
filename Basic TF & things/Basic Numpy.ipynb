{
 "cells": [
  {
   "cell_type": "code",
   "execution_count": 2,
   "metadata": {
    "collapsed": true
   },
   "outputs": [],
   "source": [
    "import numpy as np"
   ]
  },
  {
   "cell_type": "markdown",
   "metadata": {},
   "source": [
    "# PRINT"
   ]
  },
  {
   "cell_type": "code",
   "execution_count": 5,
   "metadata": {
    "collapsed": false
   },
   "outputs": [
    {
     "name": "stdout",
     "output_type": "stream",
     "text": [
      "Integer: 3 03 003 0003 00003\n",
      "Float: 123 123.5 123.46 123.46 123.46\n",
      "String: [Hello, World !!!], [Hello, World !!!], [    Hello, World !!!]\n"
     ]
    }
   ],
   "source": [
    "x = 3\n",
    "print('Integer: %01d %02d %03d %04d %05d' % (x,x,x,x,x))\n",
    "\n",
    "x = 123.456\n",
    "print('Float: %.0f %.1f %.2f %1.2f %2.2f' % (x,x,x,x,x))\n",
    "\n",
    "x = 'Hello, World !!!'\n",
    "print('String: [%s], [%3s], [%20s]' % (x,x,x))"
   ]
  },
  {
   "cell_type": "markdown",
   "metadata": {},
   "source": [
    "# FOR + IF/ELIF/ELSE"
   ]
  },
  {
   "cell_type": "code",
   "execution_count": 11,
   "metadata": {
    "collapsed": false
   },
   "outputs": [
    {
     "name": "stdout",
     "output_type": "stream",
     "text": [
      "ANN is feed-forward network.\n",
      "MLP is feed-forward network.\n",
      "CNN is feed-forward network.\n",
      "RNN is recurrent network.\n",
      "DAE is an unsupervised methods.\n",
      "\n",
      " FOR loop with index.\n",
      "[1/5] ANN is a feed_forward network.\n",
      "[2/5] MLP is a feed_forward network.\n",
      "[3/5] CNN is a feed_forward network.\n",
      "[4/5] RNN is a recurrent network.\n",
      "[5/5] DAE is an unsupervised method.\n"
     ]
    }
   ],
   "source": [
    "deeplearning_methods = ['ANN', 'MLP', 'CNN', 'RNN', 'DAE']\n",
    "\n",
    "for alg in deeplearning_methods:\n",
    "    if alg in ['ANN', 'MLP', 'CNN']:\n",
    "        print('%s is feed-forward network.' % alg)\n",
    "    elif alg in ['RNN']:\n",
    "        print('%s is recurrent network.' % alg)\n",
    "    else:\n",
    "        print('%s is an unsupervised methods.' % alg)\n",
    "        \n",
    "#More advanced\n",
    "print('\\n FOR loop with index.')\n",
    "for i, alg in zip(range(len(deeplearning_methods)), deeplearning_methods):\n",
    "    if alg in ['ANN', 'MLP', 'CNN']:\n",
    "        print('[%d/%d] %s is a feed_forward network.' % (i+1, len(deeplearning_methods), alg))\n",
    "    elif alg in ['RNN']:\n",
    "        print('[%d/%d] %s is a recurrent network.' % (i+1, len(deeplearning_methods), alg))\n",
    "    else:\n",
    "        print('[%d/%d] %s is an unsupervised method.' % (i+1, len(deeplearning_methods), alg))"
   ]
  },
  {
   "cell_type": "markdown",
   "metadata": {},
   "source": [
    "# Function in Python"
   ]
  },
  {
   "cell_type": "code",
   "execution_count": 14,
   "metadata": {
    "collapsed": false
   },
   "outputs": [
    {
     "name": "stdout",
     "output_type": "stream",
     "text": [
      "10.0 + 20.0 = 30.0\n"
     ]
    }
   ],
   "source": [
    "#Function definition\n",
    "def sum(a,b):\n",
    "    return a+b\n",
    "\n",
    "x = 10.\n",
    "y = 20.\n",
    "print('%.1f + %.1f = %.1f' % (x, y, sum(x,y)))"
   ]
  },
  {
   "cell_type": "markdown",
   "metadata": {},
   "source": [
    "# String operation"
   ]
  },
  {
   "cell_type": "code",
   "execution_count": 30,
   "metadata": {
    "collapsed": false,
    "scrolled": true
   },
   "outputs": [
    {
     "name": "stdout",
     "output_type": "stream",
     "text": [
      "Deep Learning is very  HARD!!!!\n",
      "Deep Learning is very very very very very  HARD!!!!\n",
      "Deep Learning is very very very very very HARD!!!!\n",
      "\n",
      "==================================================\n",
      "               It is used in this way\n",
      "================================================== \n",
      "\n",
      "Index: [01/15] Char: H\n",
      "Index: [02/15] Char: e\n",
      "Index: [03/15] Char: l\n",
      "Index: [04/15] Char: l\n",
      "Index: [05/15] Char: o\n",
      "Index: [06/15] Char: ,\n",
      "Index: [07/15] Char:  \n",
      "Index: [08/15] Char: W\n",
      "Index: [09/15] Char: o\n",
      "Index: [10/15] Char: r\n",
      "Index: [11/15] Char: l\n",
      "Index: [12/15] Char: d\n",
      "Index: [13/15] Char: !\n",
      "Index: [14/15] Char: !\n",
      "Index: [15/15] Char: !\n"
     ]
    }
   ],
   "source": [
    "head = 'Deep Learning'\n",
    "body = 'very '\n",
    "tail = 'HARD!!!!'\n",
    "print(head, 'is', body, tail)\n",
    "#Repeat words\n",
    "print(head, 'is', body*5, tail)\n",
    "print(head + ' is ' + body*5 + tail)\n",
    "\n",
    "#It is used in this way\n",
    "print('\\n' + '='*50)\n",
    "print(' '*15 + 'It is used in this way')\n",
    "print('='*50, '\\n')\n",
    "\n",
    "#Indexing characters in the string\n",
    "x = 'Hello, World!!!'\n",
    "for i in range(len(x)):\n",
    "    print('Index: [%02d/%02d] Char: %s' % (i+1, len(x), x[i]))"
   ]
  },
  {
   "cell_type": "code",
   "execution_count": 35,
   "metadata": {
    "collapsed": false
   },
   "outputs": [
    {
     "name": "stdout",
     "output_type": "stream",
     "text": [
      "\n",
      "(2)th char is l\n",
      "String from 0 to 8 is [Hello, W]\n",
      "String from 4 to END is [o, World!!!]\n",
      "[20180607cloudy] -> [2018] + [0607] + [cloudy]\n"
     ]
    }
   ],
   "source": [
    "#More indexing\n",
    "print('')\n",
    "idx = 2\n",
    "print('(%d)th char is %s' % (idx, x[idx]))\n",
    "idxfr = 0\n",
    "idxto = 8\n",
    "print('String from %d to %d is [%s]' % (idxfr, idxto, x[idxfr:idxto]))\n",
    "\n",
    "idxfr = 4\n",
    "print('String from %d to END is [%s]' % (idxfr, x[idxfr:]))\n",
    "\n",
    "x = '20180607cloudy'\n",
    "year = x[:4]\n",
    "day = x[4:8]\n",
    "weather = x[8:]\n",
    "print('[%s] -> [%s] + [%s] + [%s]' % (x, year, day, weather))"
   ]
  },
  {
   "cell_type": "markdown",
   "metadata": {},
   "source": [
    "# LIST"
   ]
  },
  {
   "cell_type": "code",
   "execution_count": 56,
   "metadata": {
    "collapsed": false
   },
   "outputs": [
    {
     "name": "stdout",
     "output_type": "stream",
     "text": [
      "<class 'list'> []\n",
      "<class 'list'> ['a']\n",
      "<class 'list'> ['a', 123]\n",
      "<class 'list'> ['a', 123, ['a', 'b']]\n",
      "\n",
      "Length of x is 3\n",
      "[01/03] a\n",
      "[02/03] 123\n",
      "[03/03] ['a', 'b']\n",
      "\n",
      "<class 'list'> [1]\n",
      "<class 'list'> [1, 2]\n",
      "<class 'list'> [1, 2, 3, 'Hello']\n",
      "1\n",
      "2\n",
      "3\n",
      "Hello\n"
     ]
    }
   ],
   "source": [
    "a = []\n",
    "b = [1,2,3]\n",
    "c = ['Hello', ',', 'World!!']\n",
    "d = [1,2,3,'x','y','z']\n",
    "x = []\n",
    "print(type(x), x)\n",
    "x.append('a')\n",
    "print(type(x), x)\n",
    "x.append(123)\n",
    "print(type(x), x)\n",
    "x.append(['a', 'b'])\n",
    "print(type(x), x)\n",
    "print('\\nLength of x is %d' % (len(x)))\n",
    "for i in range(len(x)):\n",
    "    print('[%02d/%02d] %s' % (i+1, len(x), x[i]))\n",
    "\n",
    "print('')\n",
    "z = []\n",
    "z.append(1)\n",
    "print(type(z), z)\n",
    "z.append(2)\n",
    "print(type(z), z)\n",
    "z.append(3)\n",
    "z.append('Hello')\n",
    "print(type(z), z)\n",
    "for i in range(len(z)):\n",
    "    print(z[i])"
   ]
  },
  {
   "cell_type": "markdown",
   "metadata": {},
   "source": [
    "# Dictionary"
   ]
  },
  {
   "cell_type": "code",
   "execution_count": 78,
   "metadata": {
    "collapsed": false
   },
   "outputs": [
    {
     "name": "stdout",
     "output_type": "stream",
     "text": [
      "{'age': 26, 'name': 'Hong', 'job': 'Student'}\n",
      "Hong\n"
     ]
    }
   ],
   "source": [
    "dic = dict()\n",
    "dic['name'] = 'Hong'\n",
    "dic['age'] = 26\n",
    "dic['job'] = 'Student'\n",
    "print(dic)\n",
    "print(dic['name'])"
   ]
  },
  {
   "cell_type": "markdown",
   "metadata": {},
   "source": [
    "## Iterate through a dictionary - dic.items()"
   ]
  },
  {
   "cell_type": "code",
   "execution_count": 77,
   "metadata": {
    "collapsed": false
   },
   "outputs": [
    {
     "name": "stdout",
     "output_type": "stream",
     "text": [
      "Key list is:  ['age', 'name', 'job']\n",
      "Value list is:  [26, 'Hong', 'Student']\n"
     ]
    }
   ],
   "source": [
    "keylist = []\n",
    "valuelist = []\n",
    "for key, value in dic.items():\n",
    "    keylist.append(key)\n",
    "    valuelist.append(value)\n",
    "print('Key list is: ', keylist)\n",
    "print('Value list is: ', valuelist)"
   ]
  },
  {
   "cell_type": "markdown",
   "metadata": {},
   "source": [
    "# Class"
   ]
  },
  {
   "cell_type": "code",
   "execution_count": 82,
   "metadata": {
    "collapsed": false
   },
   "outputs": [
    {
     "name": "stdout",
     "output_type": "stream",
     "text": [
      "Hello, Hong!!\n",
      "Hello, HONG!!\n",
      "\n",
      "Hello, Nguyen!!\n",
      "Hello, NGUYEN!!\n"
     ]
    }
   ],
   "source": [
    "class Greeter:\n",
    "    \n",
    "    #Constructor\n",
    "    def __init__(self, name):\n",
    "        self.name = name #Create an instance variable\n",
    "    \n",
    "    #Instance method\n",
    "    def greet(self, loud=False):\n",
    "        if loud:\n",
    "            print('Hello, %s!!' % self.name.upper())\n",
    "        else:\n",
    "            print('Hello, %s!!' % self.name)\n",
    "\n",
    "g1 = Greeter('Hong') #Construct an instance of Greeter class\n",
    "g1.greet()           #Call an instance method\n",
    "g1.greet(loud=True)  #Call another instance method with variable\n",
    "print('')\n",
    "g2 = Greeter('Nguyen') #Construct another instance of Greeter class\n",
    "g2.greet()\n",
    "g2.greet(loud=True)"
   ]
  },
  {
   "cell_type": "markdown",
   "metadata": {},
   "source": [
    "# Numpy"
   ]
  },
  {
   "cell_type": "code",
   "execution_count": 95,
   "metadata": {
    "collapsed": true
   },
   "outputs": [],
   "source": [
    "def print_np(x):\n",
    "    print('Type is %s' % type(x))\n",
    "    print('Shape is ', x.shape)\n",
    "    print('Values are: \\n%s' % (x))"
   ]
  },
  {
   "cell_type": "markdown",
   "metadata": {},
   "source": [
    "## Rank 1 Array"
   ]
  },
  {
   "cell_type": "code",
   "execution_count": 96,
   "metadata": {
    "collapsed": false
   },
   "outputs": [
    {
     "name": "stdout",
     "output_type": "stream",
     "text": [
      "Type is <class 'numpy.ndarray'>\n",
      "Shape is  (3,)\n",
      "Values are: \n",
      "[1 2 3]\n",
      "\n",
      "Type is <class 'numpy.ndarray'>\n",
      "Shape is  (3,)\n",
      "Values are: \n",
      "[5 2 3]\n"
     ]
    }
   ],
   "source": [
    "x = np.array([1,2,3]) #Rank 1 array\n",
    "print_np(x)\n",
    "print('')\n",
    "x[0] = 5\n",
    "print_np(x)"
   ]
  },
  {
   "cell_type": "markdown",
   "metadata": {},
   "source": [
    "## Rank 2 Array"
   ]
  },
  {
   "cell_type": "code",
   "execution_count": 99,
   "metadata": {
    "collapsed": false
   },
   "outputs": [
    {
     "name": "stdout",
     "output_type": "stream",
     "text": [
      "Type is <class 'numpy.ndarray'>\n",
      "Shape is  (2, 3)\n",
      "Values are: \n",
      "[[1 2 3]\n",
      " [4 5 6]]\n",
      "\n",
      "Type is <class 'numpy.ndarray'>\n",
      "Shape is  (2, 3)\n",
      "Values are: \n",
      "[[ 1  2  3]\n",
      " [ 4  5 20]]\n"
     ]
    }
   ],
   "source": [
    "y = np.array([ [1,2,3],[4,5,6] ]) #Rank 2 array\n",
    "print_np(y)\n",
    "print('')\n",
    "y[1][2] = 20 #Change the 6 value\n",
    "print_np(y)"
   ]
  },
  {
   "cell_type": "markdown",
   "metadata": {},
   "source": [
    "## Zeros matrix"
   ]
  },
  {
   "cell_type": "code",
   "execution_count": 105,
   "metadata": {
    "collapsed": false
   },
   "outputs": [
    {
     "name": "stdout",
     "output_type": "stream",
     "text": [
      "Type is <class 'numpy.ndarray'>\n",
      "Shape is  (5, 5)\n",
      "Values are: \n",
      "[[0. 0. 0. 0. 0.]\n",
      " [0. 0. 0. 0. 0.]\n",
      " [0. 0. 0. 0. 0.]\n",
      " [0. 0. 0. 0. 0.]\n",
      " [0. 0. 0. 0. 0.]]\n",
      "\n",
      "Type is <class 'numpy.ndarray'>\n",
      "Shape is  (2, 3)\n",
      "Values are: \n",
      "[[0 0 0]\n",
      " [0 0 0]]\n"
     ]
    }
   ],
   "source": [
    "zeros = np.zeros((5,5))\n",
    "print_np(zeros)\n",
    "print('')\n",
    "zeros = np.zeros_like(y) #New Zeros matrix has the same shape as y \n",
    "print_np(zeros)"
   ]
  },
  {
   "cell_type": "markdown",
   "metadata": {},
   "source": [
    "## Ones matrix"
   ]
  },
  {
   "cell_type": "code",
   "execution_count": 108,
   "metadata": {
    "collapsed": false
   },
   "outputs": [
    {
     "name": "stdout",
     "output_type": "stream",
     "text": [
      "Type is <class 'numpy.ndarray'>\n",
      "Shape is  (5, 5)\n",
      "Values are: \n",
      "[[1. 1. 1. 1. 1.]\n",
      " [1. 1. 1. 1. 1.]\n",
      " [1. 1. 1. 1. 1.]\n",
      " [1. 1. 1. 1. 1.]\n",
      " [1. 1. 1. 1. 1.]]\n",
      "\n",
      "Type is <class 'numpy.ndarray'>\n",
      "Shape is  (2, 3)\n",
      "Values are: \n",
      "[[1 1 1]\n",
      " [1 1 1]]\n"
     ]
    }
   ],
   "source": [
    "ones = np.ones((5,5))\n",
    "print_np(ones)\n",
    "print('')\n",
    "ones = np.ones_like(y) #New Ones matrix has the same shape as y\n",
    "print_np(ones)"
   ]
  },
  {
   "cell_type": "markdown",
   "metadata": {},
   "source": [
    "## Identity matrix"
   ]
  },
  {
   "cell_type": "code",
   "execution_count": 115,
   "metadata": {
    "collapsed": false
   },
   "outputs": [
    {
     "name": "stdout",
     "output_type": "stream",
     "text": [
      "Type is <class 'numpy.ndarray'>\n",
      "Shape is  (5, 5)\n",
      "Values are: \n",
      "[[1. 0. 0. 0. 0.]\n",
      " [0. 1. 0. 0. 0.]\n",
      " [0. 0. 1. 0. 0.]\n",
      " [0. 0. 0. 1. 0.]\n",
      " [0. 0. 0. 0. 1.]]\n",
      "\n",
      "Type is <class 'numpy.ndarray'>\n",
      "Shape is  (5, 8)\n",
      "Values are: \n",
      "[[1. 0. 0. 0. 0. 0. 0. 0.]\n",
      " [0. 1. 0. 0. 0. 0. 0. 0.]\n",
      " [0. 0. 1. 0. 0. 0. 0. 0.]\n",
      " [0. 0. 0. 1. 0. 0. 0. 0.]\n",
      " [0. 0. 0. 0. 1. 0. 0. 0.]]\n"
     ]
    }
   ],
   "source": [
    "eye = np.eye(5,5)\n",
    "print_np(eye)\n",
    "print('')\n",
    "eye1 = np.eye(5, 8)\n",
    "print_np(eye1)"
   ]
  },
  {
   "cell_type": "markdown",
   "metadata": {},
   "source": [
    "## Random"
   ]
  },
  {
   "cell_type": "code",
   "execution_count": 153,
   "metadata": {
    "collapsed": false
   },
   "outputs": [
    {
     "name": "stdout",
     "output_type": "stream",
     "text": [
      "Type is <class 'numpy.ndarray'>\n",
      "Shape is  (3, 2)\n",
      "Values are: \n",
      "[[0.50831287 0.04935922]\n",
      " [0.59138353 0.93317763]\n",
      " [0.09340331 0.21828339]]\n",
      "\n",
      "Type is <class 'numpy.ndarray'>\n",
      "Shape is  (3, 5)\n",
      "Values are: \n",
      "[[7 4 8 4 5]\n",
      " [2 9 8 1 8]\n",
      " [3 2 7 1 9]]\n"
     ]
    }
   ],
   "source": [
    "random_rand = np.random.rand(3,2) #np.random.rand just the postive value (0 -> 1)\n",
    "print_np(random_rand)\n",
    "print('')\n",
    "random_randint = np.random.randint(10, size=(3,5)) #np.random.randint random int values (0 -> high)\n",
    "print_np(random_randint)"
   ]
  },
  {
   "cell_type": "markdown",
   "metadata": {},
   "source": [
    "## Random (uniform)"
   ]
  },
  {
   "cell_type": "code",
   "execution_count": 120,
   "metadata": {
    "collapsed": false
   },
   "outputs": [
    {
     "name": "stdout",
     "output_type": "stream",
     "text": [
      "Type is <class 'numpy.ndarray'>\n",
      "Shape is  (5, 5)\n",
      "Values are: \n",
      "[[27  1 41 20 98]\n",
      " [32 77 40 20  1]\n",
      " [63 22 45 69 81]\n",
      " [43 77 34 20 81]\n",
      " [13 25  0 65 13]]\n"
     ]
    }
   ],
   "source": [
    "rand_uniform = np.random.uniform(low=0,high=100,size=[5,5]).astype('int32')\n",
    "print_np(rand_uniform)"
   ]
  },
  {
   "cell_type": "markdown",
   "metadata": {},
   "source": [
    "## Random (gaussian)"
   ]
  },
  {
   "cell_type": "code",
   "execution_count": 154,
   "metadata": {
    "collapsed": false
   },
   "outputs": [
    {
     "name": "stdout",
     "output_type": "stream",
     "text": [
      "Type is <class 'numpy.ndarray'>\n",
      "Shape is  (3, 2)\n",
      "Values are: \n",
      "[[ 0.75441265 -0.33507649]\n",
      " [-0.96904024  0.95040166]\n",
      " [-0.23646102  0.09707003]]\n"
     ]
    }
   ],
   "source": [
    "rand_gaussian = np.random.randn(5,5) #np.random.randn include the negative value (-1 -> 3)\n",
    "print_np(random_randn)"
   ]
  },
  {
   "cell_type": "markdown",
   "metadata": {},
   "source": [
    "## Array Indexing"
   ]
  },
  {
   "cell_type": "code",
   "execution_count": 166,
   "metadata": {
    "collapsed": false
   },
   "outputs": [
    {
     "name": "stdout",
     "output_type": "stream",
     "text": [
      "Type is <class 'numpy.ndarray'>\n",
      "Shape is  (5, 8)\n",
      "Values are: \n",
      "[[11  2 17 12 19  8  3 15]\n",
      " [ 4  1  7  1  6  0 13  6]\n",
      " [10  7 15  4 18  6 17 13]\n",
      " [ 9  9 10 10 17  5  6  5]\n",
      " [ 9  3  3 16 14 14 19 13]]\n",
      "\n",
      "Type is <class 'numpy.ndarray'>\n",
      "Shape is  (3, 3)\n",
      "Values are: \n",
      "[[11  2 17]\n",
      " [ 4  1  7]\n",
      " [10  7 15]]\n",
      "\n",
      "Type is <class 'numpy.int32'>\n",
      "Shape is  ()\n",
      "Values are: \n",
      "4\n"
     ]
    }
   ],
   "source": [
    "#Create a rank 2 array\n",
    "a = np.array(np.random.randint(20, size=(5,8)))\n",
    "print_np(a)\n",
    "\n",
    "print('')\n",
    "#Use slicing to pull out the subarray consisting of the first 2 rows\n",
    "b = a[:3, :3]\n",
    "print_np(b)\n",
    "\n",
    "print('')\n",
    "#Take the specific value after slice\n",
    "c = a[:3, :3][1][0]\n",
    "print_np(c)"
   ]
  },
  {
   "cell_type": "markdown",
   "metadata": {},
   "source": [
    "## Get Row"
   ]
  },
  {
   "cell_type": "code",
   "execution_count": 176,
   "metadata": {
    "collapsed": false
   },
   "outputs": [
    {
     "name": "stdout",
     "output_type": "stream",
     "text": [
      "Type is <class 'numpy.ndarray'>\n",
      "Shape is  (5, 8)\n",
      "Values are: \n",
      "[[10  7  2 14 12 15 12  4]\n",
      " [18 19 14  3 19  0 14 16]\n",
      " [11  6 18 17 16 19  4 19]\n",
      " [ 7  1  1  6  0  6 15 12]\n",
      " [11 10  1  7 19  2 19  0]]\n",
      "\n",
      "Row 2 of rank 1 is:  [18 19 14  3 19  0 14 16]\n",
      "Row 2 of rank 2 is:  [[18 19 14  3 19  0 14 16]]\n",
      "Row 2 of rank 2 (another method) is: [[18 19 14  3 19  0 14 16]]\n"
     ]
    }
   ],
   "source": [
    "a = np.array(np.random.randint(20, size=(5,8)))\n",
    "print_np(a)\n",
    "print('')\n",
    "\n",
    "row2_rank1 = a[1, :]     #Rank 1 view of the second row of a\n",
    "row2_rank2 = a[1:2, :]   #Rank 2 view of the second row of a\n",
    "row2_r3 = a[[1], :]      #Rank 2 view of the second row of a (another method)\n",
    "print('Row 2 of rank 1 is: ', row2_rank1)\n",
    "print('Row 2 of rank 2 is: ', row2_rank2)\n",
    "print('Row 2 of rank 2 (another method) is:', row2_r3)"
   ]
  },
  {
   "cell_type": "code",
   "execution_count": 185,
   "metadata": {
    "collapsed": false,
    "scrolled": true
   },
   "outputs": [
    {
     "name": "stdout",
     "output_type": "stream",
     "text": [
      "Type is <class 'numpy.ndarray'>\n",
      "Shape is  (3, 2)\n",
      "Values are: \n",
      "[[1 2]\n",
      " [3 4]\n",
      " [5 6]]\n",
      "\n",
      "Type is <class 'numpy.ndarray'>\n",
      "Shape is  (2, 3)\n",
      "Values are: \n",
      "[[0 1 2]\n",
      " [0 1 0]]\n",
      "\n",
      "Type is <class 'numpy.ndarray'>\n",
      "Shape is  (3,)\n",
      "Values are: \n",
      "[1 4 2]\n",
      "\n",
      "Type is <class 'numpy.ndarray'>\n",
      "Shape is  (2, 2)\n",
      "Values are: \n",
      "[[2 2]\n",
      " [1 6]]\n"
     ]
    }
   ],
   "source": [
    "a = np.array([ [1,2],[3,4],[5,6] ])\n",
    "b = np.array([ [0,1,2],[0,1,0] ])\n",
    "print_np(a)\n",
    "print('')\n",
    "print_np(b)\n",
    "print('')\n",
    "#Indexing array a and b \n",
    "c = np.array([ a[0,0], a[1,1], b[0,2] ])                 #Rank 1 array after indexing both rank 2 a & b arrays\n",
    "d = np.array([ [ a[0,1], b[0,2]], [b[1,1], a[2,1] ] ]) #Rank 2 array after indexing both rank 2 a & b arrays\n",
    "print_np(c)\n",
    "print('')\n",
    "print_np(d)"
   ]
  },
  {
   "cell_type": "markdown",
   "metadata": {},
   "source": [
    "## Array maths"
   ]
  },
  {
   "cell_type": "code",
   "execution_count": 193,
   "metadata": {
    "collapsed": false
   },
   "outputs": [
    {
     "name": "stdout",
     "output_type": "stream",
     "text": [
      "[[ 6.  8.]\n",
      " [10. 12.]]\n",
      "[[ 6.  8.]\n",
      " [10. 12.]] \n",
      "\n",
      "[[-4. -4.]\n",
      " [-4. -4.]]\n",
      "[[-4. -4.]\n",
      " [-4. -4.]] \n",
      "\n",
      "[[ 5. 12.]\n",
      " [21. 32.]]\n",
      "[[ 5. 12.]\n",
      " [21. 32.]] \n",
      "\n",
      "[[0.2        0.33333333]\n",
      " [0.42857143 0.5       ]]\n",
      "[[0.2        0.33333333]\n",
      " [0.42857143 0.5       ]] \n",
      "\n",
      "[[1.         1.41421356]\n",
      " [1.73205081 2.        ]] \n",
      "\n",
      "[[19. 22.]\n",
      " [43. 50.]]\n",
      "[[19. 22.]\n",
      " [43. 50.]]\n"
     ]
    }
   ],
   "source": [
    "x = np.array([[1,2],[3,4]], dtype=np.float64)\n",
    "y = np.array([[5,6],[7,8]], dtype=np.float64)\n",
    "\n",
    "#Elementwise sum; both produce the array\n",
    "print(x+y)\n",
    "print(np.add(x,y), '\\n')\n",
    "#Elementwise difference; both produce the array\n",
    "print(x-y)\n",
    "print(np.subtract(x,y), '\\n')\n",
    "#Elementwise product; both produce the array\n",
    "print(x*y)\n",
    "print(np.multiply(x,y), '\\n')\n",
    "#Elementwise division; both produce the array\n",
    "print(x/y)\n",
    "print(np.divide(x,y), '\\n')\n",
    "#Elementwise square root; produce the array\n",
    "print(np.sqrt(x), '\\n')\n",
    "#Matmul\n",
    "print(np.matmul(x,y))\n",
    "print(np.dot(x,y))"
   ]
  },
  {
   "cell_type": "code",
   "execution_count": 202,
   "metadata": {
    "collapsed": false,
    "scrolled": true
   },
   "outputs": [
    {
     "name": "stdout",
     "output_type": "stream",
     "text": [
      "Type is <class 'numpy.ndarray'>\n",
      "Shape is  (2, 2)\n",
      "Values are: \n",
      "[[1 2]\n",
      " [3 4]]\n",
      "Type is <class 'numpy.ndarray'>\n",
      "Shape is  (2, 2)\n",
      "Values are: \n",
      "[[5 6]\n",
      " [7 8]]\n",
      "Type is <class 'numpy.ndarray'>\n",
      "Shape is  (2,)\n",
      "Values are: \n",
      "[ 9 10]\n",
      "Type is <class 'numpy.ndarray'>\n",
      "Shape is  (2,)\n",
      "Values are: \n",
      "[11 12]\n",
      "\n",
      "219\n",
      "219\n",
      "[29 67]\n",
      "[29 67]\n",
      "[29 67]\n",
      "[[19 22]\n",
      " [43 50]]\n",
      "[[19 22]\n",
      " [43 50]]\n",
      "[[19 22]\n",
      " [43 50]]\n"
     ]
    }
   ],
   "source": [
    "x = np.array([[1,2],[3,4]])\n",
    "y = np.array([[5,6],[7,8]])\n",
    "v = np.array([9,10])\n",
    "w = np.array([11, 12])\n",
    "\n",
    "print_np(x)\n",
    "print_np(y)\n",
    "print_np(v)\n",
    "print_np(w)\n",
    "\n",
    "print('')\n",
    "#Inner product of vectors; both produce 219 (dot product)\n",
    "print(v.dot(w))\n",
    "print(np.dot(v,w)) # v * w'\n",
    "\n",
    "#Matrix/Vector product; both produce the rank 1 array\n",
    "#np.dot() and np.matmul() have the same function\n",
    "print(x.dot(v))\n",
    "print(np.dot(x,v))\n",
    "print(np.matmul(x,v))\n",
    "\n",
    "#Matrix/Matrix product; both produce the rank 2 array\n",
    "#np.dot() and np.matmul() have the same function\n",
    "print(x.dot(y))\n",
    "print(np.dot(x,y))\n",
    "print(np.matmul(x,y))"
   ]
  },
  {
   "cell_type": "code",
   "execution_count": 214,
   "metadata": {
    "collapsed": false
   },
   "outputs": [
    {
     "name": "stdout",
     "output_type": "stream",
     "text": [
      "Type is <class 'numpy.ndarray'>\n",
      "Shape is  (2, 2)\n",
      "Values are: \n",
      "[[1 2]\n",
      " [3 4]]\n",
      "Transpose rank 2 matrix: \n",
      "[[1 3]\n",
      " [2 4]]\n",
      "\n",
      "Type is <class 'numpy.ndarray'>\n",
      "Shape is  (2,)\n",
      "Values are: \n",
      "[ 9 10]\n",
      "Transpose rank 1 matrix: \n",
      "[ 9 10]\n"
     ]
    }
   ],
   "source": [
    "print_np(x)\n",
    "#Transpose matrix\n",
    "print('Transpose rank 2 matrix: \\n%s' % x.T) #Transpose rank 2 matrix\n",
    "print('')\n",
    "print_np(v)\n",
    "print('Transpose rank 1 matrix: \\n%s' % v.T) #Transpose rank 1 matrix"
   ]
  },
  {
   "cell_type": "code",
   "execution_count": 222,
   "metadata": {
    "collapsed": false
   },
   "outputs": [
    {
     "name": "stdout",
     "output_type": "stream",
     "text": [
      "Type is <class 'numpy.ndarray'>\n",
      "Shape is  (3, 2)\n",
      "Values are: \n",
      "[[1 2]\n",
      " [3 4]\n",
      " [5 6]]\n",
      "\n",
      "21\n",
      "Sum of each column(axis=0):  [ 9 12]\n",
      "Sum of each row(axis=1):  [ 3  7 11]\n"
     ]
    }
   ],
   "source": [
    "x = np.array([[1,2],[3,4],[5,6]])\n",
    "print_np(x)\n",
    "print('')\n",
    "print(np.sum(x))                                           #Compute sum of all element\n",
    "print('Sum of each column(axis=0): ', np.sum(x, axis=0))   #Compute sum of each column\n",
    "print('Sum of each row(axis=1): ', np.sum(x, axis=1))      #Compute sum of each row"
   ]
  },
  {
   "cell_type": "code",
   "execution_count": 224,
   "metadata": {
    "collapsed": false
   },
   "outputs": [
    {
     "name": "stdout",
     "output_type": "stream",
     "text": [
      "[[1 2]\n",
      " [3 4]\n",
      " [5 6]] \n",
      "\n",
      "[[1 3 5]\n",
      " [2 4 6]]\n"
     ]
    }
   ],
   "source": [
    "print (x, '\\n')\n",
    "print (x.T)"
   ]
  },
  {
   "cell_type": "code",
   "execution_count": 225,
   "metadata": {
    "collapsed": false
   },
   "outputs": [
    {
     "name": "stdout",
     "output_type": "stream",
     "text": [
      "[1 2 3] \n",
      "\n",
      "[1 2 3]\n"
     ]
    }
   ],
   "source": [
    "x = np.array([1,2,3]) #Rank 1 array\n",
    "print (x, '\\n')\n",
    "print (x.T)"
   ]
  },
  {
   "cell_type": "code",
   "execution_count": 226,
   "metadata": {
    "collapsed": false
   },
   "outputs": [
    {
     "name": "stdout",
     "output_type": "stream",
     "text": [
      "[[1 2 3]] \n",
      "\n",
      "[[1]\n",
      " [2]\n",
      " [3]]\n"
     ]
    }
   ],
   "source": [
    "x = np.array([[1,2,3]]) #Rank 2 array\n",
    "print (x, '\\n')\n",
    "print (x.T)"
   ]
  },
  {
   "cell_type": "markdown",
   "metadata": {},
   "source": [
    "## Other useful operations"
   ]
  },
  {
   "cell_type": "code",
   "execution_count": 230,
   "metadata": {
    "collapsed": false
   },
   "outputs": [
    {
     "name": "stdout",
     "output_type": "stream",
     "text": [
      "Type is <class 'numpy.ndarray'>\n",
      "Shape is  (4, 3)\n",
      "Values are: \n",
      "[[ 1  2  3]\n",
      " [ 4  5  6]\n",
      " [ 7  8  9]\n",
      " [10 11 12]]\n",
      "Type is <class 'numpy.ndarray'>\n",
      "Shape is  (3,)\n",
      "Values are: \n",
      "[1 0 1]\n",
      "Type is <class 'numpy.ndarray'>\n",
      "Shape is  (4, 3)\n",
      "Values are: \n",
      "[[ 1  2  3]\n",
      " [ 4  5  6]\n",
      " [ 7  8  9]\n",
      " [10 11 12]]\n"
     ]
    }
   ],
   "source": [
    "#We will add the vector v to each row of the matrix x\n",
    "#storing th result in the matrix y\n",
    "x = np.array([ [1,2,3],[4,5,6],[7,8,9],[10,11,12] ]) #Rank 2 array\n",
    "v = np.array([1,0,1])\n",
    "y = np.empty_like(x)    #Create an empty matrix with the same shape as x\n",
    "\n",
    "print_np(x)\n",
    "print_np(v)\n",
    "print_np(y)"
   ]
  },
  {
   "cell_type": "code",
   "execution_count": 231,
   "metadata": {
    "collapsed": false
   },
   "outputs": [
    {
     "name": "stdout",
     "output_type": "stream",
     "text": [
      "Type is <class 'numpy.ndarray'>\n",
      "Shape is  (4, 3)\n",
      "Values are: \n",
      "[[ 2  2  4]\n",
      " [ 5  5  7]\n",
      " [ 8  8 10]\n",
      " [11 11 13]]\n"
     ]
    }
   ],
   "source": [
    "#Add the vector v to each row of the matrix x\n",
    "#with an explicit loop\n",
    "for i in range(4):\n",
    "    y[i, :] = x[i, :] + v    #BROADCASTING by FOR loop\n",
    "print_np(y)"
   ]
  },
  {
   "cell_type": "code",
   "execution_count": 237,
   "metadata": {
    "collapsed": false
   },
   "outputs": [
    {
     "name": "stdout",
     "output_type": "stream",
     "text": [
      "Type is <class 'numpy.ndarray'>\n",
      "Shape is  (4, 6)\n",
      "Values are: \n",
      "[[1 0 1 1 0 1]\n",
      " [1 0 1 1 0 1]\n",
      " [1 0 1 1 0 1]\n",
      " [1 0 1 1 0 1]]\n"
     ]
    }
   ],
   "source": [
    "vv = np.tile(A=v, reps=(4,2)) #Stack 4 copies of v on top of each other\n",
    "print_np(vv)"
   ]
  },
  {
   "cell_type": "code",
   "execution_count": 238,
   "metadata": {
    "collapsed": false
   },
   "outputs": [
    {
     "name": "stdout",
     "output_type": "stream",
     "text": [
      "Type is <class 'numpy.ndarray'>\n",
      "Shape is  (4, 3)\n",
      "Values are: \n",
      "[[ 2  2  4]\n",
      " [ 5  5  7]\n",
      " [ 8  8 10]\n",
      " [11 11 13]]\n"
     ]
    }
   ],
   "source": [
    "#BROADCASTING\n",
    "#We will add the vector v to each row of the matrix x, \n",
    "#storing the result in the matrix y\n",
    "x = np.array([ [1,2,3],[4,5,6],[7,8,9],[10,11,12] ]) #Rank 2 array\n",
    "v = np.array([1,0,1])\n",
    "y = x + v            #Add v to each row of x using BROADCASTING\n",
    "\n",
    "print_np(y)"
   ]
  },
  {
   "cell_type": "code",
   "execution_count": 244,
   "metadata": {
    "collapsed": false
   },
   "outputs": [
    {
     "name": "stdout",
     "output_type": "stream",
     "text": [
      "[[12 13 14]\n",
      " [16 17 18]]\n"
     ]
    }
   ],
   "source": [
    "#Add a vector to each columns of matrix \n",
    "x = np.array([ [1,2,3],[4,5,6] ]) #Rank 2 array\n",
    "print((x.T + w).T)\n",
    "print('')\n",
    "#Another solution is to reshape w\n",
    "#to be a row vector of shape(2,1)\n",
    "print(x)"
   ]
  },
  {
   "cell_type": "code",
   "execution_count": null,
   "metadata": {
    "collapsed": true
   },
   "outputs": [],
   "source": []
  },
  {
   "cell_type": "code",
   "execution_count": null,
   "metadata": {
    "collapsed": true
   },
   "outputs": [],
   "source": []
  },
  {
   "cell_type": "code",
   "execution_count": null,
   "metadata": {
    "collapsed": true
   },
   "outputs": [],
   "source": []
  },
  {
   "cell_type": "code",
   "execution_count": null,
   "metadata": {
    "collapsed": true
   },
   "outputs": [],
   "source": []
  }
 ],
 "metadata": {
  "kernelspec": {
   "display_name": "Python [conda root]",
   "language": "python",
   "name": "conda-root-py"
  },
  "language_info": {
   "codemirror_mode": {
    "name": "ipython",
    "version": 3
   },
   "file_extension": ".py",
   "mimetype": "text/x-python",
   "name": "python",
   "nbconvert_exporter": "python",
   "pygments_lexer": "ipython3",
   "version": "3.5.2"
  }
 },
 "nbformat": 4,
 "nbformat_minor": 1
}
