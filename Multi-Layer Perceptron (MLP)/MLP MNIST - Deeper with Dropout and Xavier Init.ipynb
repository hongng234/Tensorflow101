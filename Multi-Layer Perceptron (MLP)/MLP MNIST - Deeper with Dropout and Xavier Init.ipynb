{
 "cells": [
  {
   "cell_type": "code",
   "execution_count": 1,
   "metadata": {
    "collapsed": false
   },
   "outputs": [
    {
     "name": "stderr",
     "output_type": "stream",
     "text": [
      "C:\\Users\\StrikeWade\\Anaconda3\\lib\\site-packages\\h5py\\__init__.py:36: FutureWarning: Conversion of the second argument of issubdtype from `float` to `np.floating` is deprecated. In future, it will be treated as `np.float64 == np.dtype(float).type`.\n",
      "  from ._conv import register_converters as _register_converters\n",
      "Using TensorFlow backend.\n"
     ]
    },
    {
     "name": "stdout",
     "output_type": "stream",
     "text": [
      "Extracting /Basic TF & thing/mnist/train-images-idx3-ubyte.gz\n",
      "Extracting /Basic TF & thing/mnist/train-labels-idx1-ubyte.gz\n",
      "Extracting /Basic TF & thing/mnist/t10k-images-idx3-ubyte.gz\n",
      "Extracting /Basic TF & thing/mnist/t10k-labels-idx1-ubyte.gz\n"
     ]
    }
   ],
   "source": [
    "import numpy as np\n",
    "import tensorflow as tf\n",
    "import matplotlib.pyplot as plt\n",
    "from tensorflow.examples.tutorials.mnist import input_data\n",
    "%matplotlib inline\n",
    "\n",
    "from keras import backend as K\n",
    "\n",
    "#Clear TF memory\n",
    "cfg = K.tf.ConfigProto()\n",
    "cfg.gpu_options.allow_growth = True\n",
    "K.set_session(K.tf.Session(config=cfg))\n",
    "\n",
    "mnist = input_data.read_data_sets('/Basic TF & thing/mnist/', one_hot=True)"
   ]
  },
  {
   "cell_type": "markdown",
   "metadata": {},
   "source": [
    "# Xavier Init Function"
   ]
  },
  {
   "cell_type": "code",
   "execution_count": 2,
   "metadata": {
    "collapsed": true
   },
   "outputs": [],
   "source": [
    "def xavier_init(num_inputs, num_outputs, uniform=True):\n",
    "    \"\"\" This method is designed to keep the scale of the gradients roughly the same in all layers \"\"\"\n",
    "    if uniform:\n",
    "        #6 was used in paper\n",
    "        init_range = tf.sqrt(6.0/(num_inputs + num_outputs))\n",
    "        return tf.random_uniform_initializer(-init_range, init_range)\n",
    "    else:\n",
    "        #3 give us approximately the same limits as above since this repicks\n",
    "        #values greater than 2 standard deviations from the mean\n",
    "        stddev = tf.sqrt(3.0/(num_inputs + num_outputs))\n",
    "        return tf.truncated_normal_initializer(stddev=stddev)"
   ]
  },
  {
   "cell_type": "markdown",
   "metadata": {},
   "source": [
    "# Define model's parameters"
   ]
  },
  {
   "cell_type": "code",
   "execution_count": 3,
   "metadata": {
    "collapsed": true
   },
   "outputs": [],
   "source": [
    "#Params\n",
    "learning_rate = 0.001\n",
    "epochs = 50\n",
    "batch_size = 100\n",
    "display_step = 10\n",
    "\n",
    "#Network Params\n",
    "n_inputs = 784\n",
    "n_hidden_1 = 256 #1st hidden layer num features\n",
    "n_hidden_2 = 256 #2nd hidden layer num features\n",
    "n_hidden_3 = 256 #3rd hidden layer num features\n",
    "n_hidden_4 = 256 #4th hidden layer num features\n",
    "n_classes = 10   #Digits(0-9)\n",
    "\n",
    "#Placeholder for x and y\n",
    "x = tf.placeholder(dtype=tf.float32, shape=[None, n_inputs])\n",
    "y = tf.placeholder(dtype=tf.float32, shape=[None, n_classes])\n",
    "dropout_keep_prob = tf.placeholder(dtype=tf.float32)\n",
    "\n",
    "#Weights and Bias with Xavier Init\n",
    "weights = {\n",
    "    'h1': tf.get_variable(shape=[n_inputs, n_hidden_1], initializer=xavier_init(num_inputs=n_inputs, num_outputs=n_hidden_1), name='h1'),\n",
    "    'h2': tf.get_variable(shape=[n_hidden_1, n_hidden_2], initializer=xavier_init(num_inputs=n_hidden_1, num_outputs=n_hidden_2), name='h2'),\n",
    "    'h3': tf.get_variable(shape=[n_hidden_2, n_hidden_3], initializer=xavier_init(num_inputs=n_hidden_2, num_outputs=n_hidden_3), name='h3'),\n",
    "    'h4': tf.get_variable(shape=[n_hidden_3, n_hidden_4], initializer=xavier_init(num_inputs=n_hidden_3, num_outputs=n_hidden_4), name='h4'),\n",
    "    'out': tf.get_variable(shape=[n_hidden_4, n_classes], initializer=xavier_init(num_inputs=n_hidden_4, num_outputs=n_classes), name='out')\n",
    "}\n",
    "\n",
    "biases = {\n",
    "    'b1': tf.Variable(tf.random_normal([n_hidden_1])),\n",
    "    'b2': tf.Variable(tf.random_normal([n_hidden_2])),\n",
    "    'b3': tf.Variable(tf.random_normal([n_hidden_3])),\n",
    "    'b4': tf.Variable(tf.random_normal([n_hidden_4])),\n",
    "    'out': tf.Variable(tf.random_normal([n_classes]))\n",
    "}"
   ]
  },
  {
   "cell_type": "markdown",
   "metadata": {},
   "source": [
    "# Create model function"
   ]
  },
  {
   "cell_type": "code",
   "execution_count": 4,
   "metadata": {
    "collapsed": true
   },
   "outputs": [],
   "source": [
    "def multilayer_perceptron(x, weights, biases, keep_prob):\n",
    "    layer_1 = tf.nn.dropout(tf.nn.relu(tf.add(tf.matmul(x, weights['h1']), biases['b1'])), keep_prob)\n",
    "    layer_2 = tf.nn.dropout(tf.nn.relu(tf.add(tf.matmul(layer_1, weights['h2']), biases['b2'])), keep_prob)\n",
    "    layer_3 = tf.nn.dropout(tf.nn.relu(tf.add(tf.matmul(layer_2, weights['h3']), biases['b3'])), keep_prob)\n",
    "    layer_4 = tf.nn.dropout(tf.nn.relu(tf.add(tf.matmul(layer_3, weights['h4']), biases['b4'])), keep_prob)\n",
    "    return (tf.matmul(layer_4, weights['out']) + biases['out'])"
   ]
  },
  {
   "cell_type": "markdown",
   "metadata": {},
   "source": [
    "# Define other functions for the training"
   ]
  },
  {
   "cell_type": "code",
   "execution_count": 5,
   "metadata": {
    "collapsed": false
   },
   "outputs": [
    {
     "name": "stdout",
     "output_type": "stream",
     "text": [
      "WARNING:tensorflow:From <ipython-input-5-20c497a9bc38>:5: softmax_cross_entropy_with_logits (from tensorflow.python.ops.nn_ops) is deprecated and will be removed in a future version.\n",
      "Instructions for updating:\n",
      "\n",
      "Future major versions of TensorFlow will allow gradients to flow\n",
      "into the labels input on backprop by default.\n",
      "\n",
      "See tf.nn.softmax_cross_entropy_with_logits_v2.\n",
      "\n"
     ]
    }
   ],
   "source": [
    "#Construct model\n",
    "y_pred = multilayer_perceptron(x, weights, biases, dropout_keep_prob)\n",
    "\n",
    "#Defind Loss and optimizer\n",
    "loss = tf.reduce_mean(tf.nn.softmax_cross_entropy_with_logits(logits=y_pred, labels=y)) #Softmax loss\n",
    "optimizer = tf.train.AdamOptimizer(learning_rate=learning_rate).minimize(loss) # Adam optimizer\n",
    "\n",
    "#Correct prediction & Accuracy function\n",
    "correct_prediction = tf.equal(tf.argmax(y_pred,1), tf.argmax(y,1))\n",
    "accuracy = tf.reduce_mean(tf.cast(correct_prediction, dtype=tf.float32))\n",
    "\n",
    "#Init Global varibale\n",
    "init = tf.global_variables_initializer()"
   ]
  },
  {
   "cell_type": "markdown",
   "metadata": {},
   "source": [
    "# Training phase "
   ]
  },
  {
   "cell_type": "code",
   "execution_count": 6,
   "metadata": {
    "collapsed": false
   },
   "outputs": [
    {
     "name": "stdout",
     "output_type": "stream",
     "text": [
      "Epoch: 000/050, Loss: 0.3959\n",
      "-->    Training accuracy:  0.97 \n",
      "-->    Test accuracy:  0.9471\n",
      "Epoch: 010/050, Loss: 0.0269\n",
      "-->    Training accuracy:  0.98 \n",
      "-->    Test accuracy:  0.9795\n",
      "Epoch: 020/050, Loss: 0.0114\n",
      "-->    Training accuracy:  1.0 \n",
      "-->    Test accuracy:  0.9826\n",
      "Epoch: 030/050, Loss: 0.0065\n",
      "-->    Training accuracy:  1.0 \n",
      "-->    Test accuracy:  0.9835\n",
      "Epoch: 040/050, Loss: 0.0049\n",
      "-->    Training accuracy:  1.0 \n",
      "-->    Test accuracy:  0.9829\n"
     ]
    }
   ],
   "source": [
    "#Launch the graph\n",
    "sess = tf.Session()\n",
    "sess.run(init)\n",
    "\n",
    "#Training \n",
    "for epoch in range(epochs):\n",
    "    avg_loss = 0\n",
    "    total_batch = int(mnist.train.num_examples/batch_size)\n",
    "    #Loop over all batches\n",
    "    for i in range(total_batch):\n",
    "        batch_x, batch_y = mnist.train.next_batch(batch_size)\n",
    "        #Fit training using batch data\n",
    "        sess.run(optimizer, feed_dict={x: batch_x, y: batch_y, dropout_keep_prob: 0.7})\n",
    "        \n",
    "        #Compute avg loss\n",
    "        avg_loss += sess.run(loss, feed_dict={x: batch_x, y: batch_y, dropout_keep_prob:1.0})/total_batch\n",
    "    \n",
    "    #Display logs per epoch steps\n",
    "    if epoch % display_step == 0:\n",
    "        print('Epoch: %03d/%03d, Loss: %.4f' % (epoch, epochs, avg_loss))\n",
    "        train_accuracy = sess.run(accuracy, feed_dict={x: batch_x, y: batch_y, dropout_keep_prob: 1.0})\n",
    "        test_accuracy = sess.run(accuracy, feed_dict={x: mnist.test.images, y: mnist.test.labels, dropout_keep_prob: 1.0})\n",
    "        print('-->    Training accuracy: ', train_accuracy, '\\n-->    Test accuracy: ', test_accuracy)"
   ]
  },
  {
   "cell_type": "code",
   "execution_count": null,
   "metadata": {
    "collapsed": true
   },
   "outputs": [],
   "source": []
  },
  {
   "cell_type": "code",
   "execution_count": null,
   "metadata": {
    "collapsed": true
   },
   "outputs": [],
   "source": []
  }
 ],
 "metadata": {
  "anaconda-cloud": {},
  "kernelspec": {
   "display_name": "Python [conda root]",
   "language": "python",
   "name": "conda-root-py"
  },
  "language_info": {
   "codemirror_mode": {
    "name": "ipython",
    "version": 3
   },
   "file_extension": ".py",
   "mimetype": "text/x-python",
   "name": "python",
   "nbconvert_exporter": "python",
   "pygments_lexer": "ipython3",
   "version": "3.5.2"
  }
 },
 "nbformat": 4,
 "nbformat_minor": 1
}
