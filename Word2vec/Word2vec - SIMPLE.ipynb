{
 "cells": [
  {
   "cell_type": "code",
   "execution_count": 1,
   "metadata": {
    "collapsed": false
   },
   "outputs": [
    {
     "name": "stderr",
     "output_type": "stream",
     "text": [
      "C:\\Users\\StrikeWade\\Anaconda3\\lib\\site-packages\\h5py\\__init__.py:36: FutureWarning: Conversion of the second argument of issubdtype from `float` to `np.floating` is deprecated. In future, it will be treated as `np.float64 == np.dtype(float).type`.\n",
      "  from ._conv import register_converters as _register_converters\n",
      "Using TensorFlow backend.\n"
     ]
    }
   ],
   "source": [
    "import collections\n",
    "import numpy as np\n",
    "import tensorflow as tf\n",
    "import matplotlib\n",
    "import matplotlib.pyplot as plt\n",
    "%matplotlib inline \n",
    "\n",
    "from keras import backend as K\n",
    "\n",
    "#Clear TF memory\n",
    "cfg = K.tf.ConfigProto()\n",
    "cfg.gpu_options.allow_growth = True\n",
    "K.set_session(K.tf.Session(config=cfg))"
   ]
  },
  {
   "cell_type": "markdown",
   "metadata": {},
   "source": [
    "# Configuration"
   ]
  },
  {
   "cell_type": "code",
   "execution_count": 2,
   "metadata": {
    "collapsed": true
   },
   "outputs": [],
   "source": [
    "batch_size = 20\n",
    "embedding_size = 2        #For visualization\n",
    "num_sampled = 15          #Number of negative examples to sample     "
   ]
  },
  {
   "cell_type": "markdown",
   "metadata": {},
   "source": [
    "# Sentences"
   ]
  },
  {
   "cell_type": "code",
   "execution_count": 3,
   "metadata": {
    "collapsed": false
   },
   "outputs": [
    {
     "name": "stdout",
     "output_type": "stream",
     "text": [
      "sentence is <class 'list'> and length 12\n"
     ]
    }
   ],
   "source": [
    "#Sample sentences\n",
    "sentences = [\"the quick brown fox jumped over the lazy dog\",\n",
    "            \"I love cats and dogs\",\n",
    "            \"we all love cats and dogs\",\n",
    "            \"cats and dogs are great\",\n",
    "            \"sung likes cats\",\n",
    "            \"she loves dogs\",\n",
    "            \"cats can be very independent\",\n",
    "            \"cats are great companions when they want to be\",\n",
    "            \"cats are playful\",\n",
    "            \"cats are natural hunters\",\n",
    "            \"It's raining cats and dogs\",\n",
    "            \"dogs and cats love sung\"]\n",
    "\n",
    "print('sentence is %s and length %d' % (type(sentences), len(sentences)))"
   ]
  },
  {
   "cell_type": "markdown",
   "metadata": {},
   "source": [
    "# Sentences to words and count\n",
    "Words: list of all words"
   ]
  },
  {
   "cell_type": "code",
   "execution_count": 4,
   "metadata": {
    "collapsed": false
   },
   "outputs": [
    {
     "name": "stdout",
     "output_type": "stream",
     "text": [
      "the quick brown fox jumped over the lazy dog I love cats and dogs we all love cats and dogs cats and dogs are great sung likes cats she loves dogs cats can be very independent cats are great companions when they want to be cats are playful cats are natural hunters It's raining cats and dogs dogs and cats love sung\n",
      "\n",
      "words is <class 'list'> and lengths is 62\n",
      "\n",
      "['the', 'quick', 'brown', 'fox', 'jumped', 'over', 'the', 'lazy', 'dog', 'I', 'love', 'cats', 'and', 'dogs', 'we', 'all', 'love', 'cats', 'and', 'dogs', 'cats', 'and', 'dogs', 'are', 'great', 'sung', 'likes', 'cats', 'she', 'loves', 'dogs', 'cats', 'can', 'be', 'very', 'independent', 'cats', 'are', 'great', 'companions', 'when', 'they', 'want', 'to', 'be', 'cats', 'are', 'playful', 'cats', 'are', 'natural', 'hunters', \"It's\", 'raining', 'cats', 'and', 'dogs', 'dogs', 'and', 'cats', 'love', 'sung']\n"
     ]
    }
   ],
   "source": [
    "words = ' '.join(sentences)\n",
    "print(words)\n",
    "words = words.split()\n",
    "print('')\n",
    "print('words is %s and lengths is %d\\n' % (type(words), len(words)))\n",
    "print(words)"
   ]
  },
  {
   "cell_type": "markdown",
   "metadata": {},
   "source": [
    "# Count: list of pairs, each pair consists of (key, value)"
   ]
  },
  {
   "cell_type": "code",
   "execution_count": 5,
   "metadata": {
    "collapsed": false
   },
   "outputs": [
    {
     "name": "stdout",
     "output_type": "stream",
     "text": [
      "Counter({'cats': 10, 'dogs': 6, 'and': 5, 'are': 4, 'love': 3, 'the': 2, 'great': 2, 'sung': 2, 'be': 2, 'quick': 1, 'playful': 1, 'likes': 1, 'hunters': 1, 'dog': 1, 'very': 1, 'to': 1, 'can': 1, 'when': 1, 'she': 1, 'brown': 1, 'lazy': 1, 'we': 1, 'companions': 1, 'all': 1, 'independent': 1, 'over': 1, 'raining': 1, 'want': 1, 'loves': 1, 'jumped': 1, 'I': 1, 'natural': 1, \"It's\": 1, 'fox': 1, 'they': 1}) <class 'collections.Counter'>\n",
      "\n",
      "[('cats', 10), ('dogs', 6), ('and', 5), ('are', 4), ('love', 3), ('the', 2), ('great', 2), ('sung', 2), ('be', 2), ('quick', 1), ('playful', 1), ('likes', 1), ('hunters', 1), ('dog', 1), ('very', 1), ('to', 1), ('can', 1), ('when', 1), ('she', 1), ('brown', 1), ('lazy', 1), ('we', 1), ('companions', 1), ('all', 1), ('independent', 1), ('over', 1), ('raining', 1), ('want', 1), ('loves', 1), ('jumped', 1), ('I', 1), ('natural', 1), (\"It's\", 1), ('fox', 1), ('they', 1)] <class 'list'>\n",
      "\n",
      "count is <class 'list'> and length is 35\n",
      "\n",
      "Word count of top 5 is [('cats', 10), ('dogs', 6), ('and', 5), ('are', 4), ('love', 3)]\n",
      "\n",
      "[('cats', 10), ('dogs', 6), ('and', 5), ('are', 4), ('love', 3), ('the', 2), ('great', 2), ('sung', 2), ('be', 2), ('quick', 1), ('playful', 1), ('likes', 1), ('hunters', 1), ('dog', 1), ('very', 1), ('to', 1), ('can', 1), ('when', 1), ('she', 1), ('brown', 1), ('lazy', 1), ('we', 1), ('companions', 1), ('all', 1), ('independent', 1), ('over', 1), ('raining', 1), ('want', 1), ('loves', 1), ('jumped', 1), ('I', 1), ('natural', 1), (\"It's\", 1), ('fox', 1), ('they', 1)]\n"
     ]
    }
   ],
   "source": [
    "count = collections.Counter(words)   #Counter type\n",
    "print(count, type(count))\n",
    "print('')\n",
    "count = count.most_common()          #Convert from Counter type to List type\n",
    "print(count, type(count))\n",
    "print('')\n",
    "\n",
    "\n",
    "print('count is %s and length is %d' % (type(count), len(count)))\n",
    "print('')\n",
    "print('Word count of top 5 is %s' % count[:5])\n",
    "print('')\n",
    "print(count)"
   ]
  },
  {
   "cell_type": "code",
   "execution_count": 6,
   "metadata": {
    "collapsed": false
   },
   "outputs": [
    {
     "name": "stdout",
     "output_type": "stream",
     "text": [
      "['the', 'quick', 'brown', 'fox', 'jumped']\n",
      "[('cats', 10), ('dogs', 6), ('and', 5), ('are', 4), ('love', 3)]\n"
     ]
    }
   ],
   "source": [
    "print(words[0:5])\n",
    "print(count[0:5])"
   ]
  },
  {
   "cell_type": "markdown",
   "metadata": {},
   "source": [
    "# Build dictionary"
   ]
  },
  {
   "cell_type": "code",
   "execution_count": 7,
   "metadata": {
    "collapsed": false
   },
   "outputs": [
    {
     "name": "stdout",
     "output_type": "stream",
     "text": [
      "['cats', 'dogs', 'and', 'are', 'love', 'the', 'great', 'sung', 'be', 'quick', 'playful', 'likes', 'hunters', 'dog', 'very', 'to', 'can', 'when', 'she', 'brown', 'lazy', 'we', 'companions', 'all', 'independent', 'over', 'raining', 'want', 'loves', 'jumped', 'I', 'natural', \"It's\", 'fox', 'they'] \n",
      "\n",
      "{'quick': 9, 'playful': 10, 'likes': 11, 'the': 5, 'over': 25, 'great': 6, 'jumped': 29, 'love': 4, 'dog': 13, 'to': 15, 'cats': 0, 'can': 16, 'and': 2, 'raining': 26, 'sung': 7, 'she': 18, 'brown': 19, 'lazy': 20, 'we': 21, 'dogs': 1, 'companions': 22, 'all': 23, 'independent': 24, 'want': 27, 'very': 14, 'loves': 28, 'hunters': 12, 'I': 30, 'natural': 31, 'fox': 33, \"It's\": 32, 'when': 17, 'are': 3, 'they': 34, 'be': 8}\n",
      "\n",
      "r_dict is <class 'list'> and length is 35\n",
      "dictionary is <class 'dict'> and length is 35\n"
     ]
    }
   ],
   "source": [
    "r_dict = [i[0] for i in count]                     #Reverse dict, idx -> word\n",
    "print(r_dict, '\\n')\n",
    "dictionary = {w: i for i, w in enumerate(r_dict)}  #dictionary, word -> id\n",
    "print(dictionary)\n",
    "voc_size = len(dictionary)                         #Number of vocabulary\n",
    "\n",
    "print('')\n",
    "print('r_dict is %s and length is %d' % (type(r_dict), len(r_dict)))\n",
    "print('dictionary is %s and length is %d' % (type(dictionary), len(dictionary)))"
   ]
  },
  {
   "cell_type": "markdown",
   "metadata": {},
   "source": [
    "# Make indexed word data (ordered)"
   ]
  },
  {
   "cell_type": "code",
   "execution_count": 8,
   "metadata": {
    "collapsed": false
   },
   "outputs": [
    {
     "name": "stdout",
     "output_type": "stream",
     "text": [
      "[5, 9, 19, 33, 29, 25, 5, 20, 13, 30, 4, 0, 2, 1, 21, 23, 4, 0, 2, 1, 0, 2, 1, 3, 6, 7, 11, 0, 18, 28, 1, 0, 16, 8, 14, 24, 0, 3, 6, 22, 17, 34, 27, 15, 8, 0, 3, 10, 0, 3, 31, 12, 32, 26, 0, 2, 1, 1, 2, 0, 4, 7] \n",
      "\n",
      "data is <class 'list'> and length is 62\n",
      "\n",
      "Sample data: numbers: [5, 9, 19, 33, 29, 25, 5, 20, 13, 30] / words: ['the', 'quick', 'brown', 'fox', 'jumped', 'over', 'the', 'lazy', 'dog', 'I']\n"
     ]
    }
   ],
   "source": [
    "data = [dictionary[word] for word in words]\n",
    "print(data, '\\n')\n",
    "print('data is %s and length is %d\\n' % (type(data), len(data)))\n",
    "print('Sample data: numbers: %s / words: %s' % (data[:10], [r_dict[t] for t in data[:10]]))"
   ]
  },
  {
   "cell_type": "markdown",
   "metadata": {},
   "source": [
    "# Make a training data for window size 1 for simplicity"
   ]
  },
  {
   "cell_type": "code",
   "execution_count": 9,
   "metadata": {
    "collapsed": false
   },
   "outputs": [
    {
     "name": "stdout",
     "output_type": "stream",
     "text": [
      "Context pairs: [[[5, 19], 9], [[9, 33], 19], [[19, 29], 33], [[33, 25], 29], [[29, 5], 25], [[25, 20], 5], [[5, 13], 20], [[20, 30], 13], [[13, 4], 30], [[30, 0], 4], [[4, 2], 0], [[0, 1], 2], [[2, 21], 1], [[1, 23], 21], [[21, 4], 23]]\n"
     ]
    }
   ],
   "source": [
    "# ([the, brown], quick), ([quick, fox], brown), ([brown, jumped], fox),....\n",
    "\n",
    "cbow_pairs = []\n",
    "for i in range(1, len(data)-1):\n",
    "    cbow_pairs.append([[data[i-1], data[i+1]], data[i]])\n",
    "print('Context pairs: %s' % cbow_pairs[:15])"
   ]
  },
  {
   "cell_type": "markdown",
   "metadata": {},
   "source": [
    "# See type and length of 'cbow_pairs'"
   ]
  },
  {
   "cell_type": "code",
   "execution_count": 10,
   "metadata": {
    "collapsed": false
   },
   "outputs": [
    {
     "name": "stdout",
     "output_type": "stream",
     "text": [
      "cbow_pairs is <class 'list'> and length is 60\n"
     ]
    }
   ],
   "source": [
    "print('cbow_pairs is %s and length is %d' % (type(cbow_pairs), len(cbow_pairs)))"
   ]
  },
  {
   "cell_type": "markdown",
   "metadata": {},
   "source": [
    "# Let's make skip-gram pairs"
   ]
  },
  {
   "cell_type": "code",
   "execution_count": 11,
   "metadata": {
    "collapsed": false
   },
   "outputs": [
    {
     "name": "stdout",
     "output_type": "stream",
     "text": [
      "skip_gram_pairs is <class 'list'> and length is 120\n",
      "skip_gram_pairs: [[9, 5], [9, 19], [19, 9], [19, 33], [33, 19], [33, 29], [29, 33], [29, 25], [25, 29], [25, 5]]\n"
     ]
    }
   ],
   "source": [
    "# (quick, the), (quick, brown), (brown, quick), (brown, fox), ...\n",
    "skip_gram_pairs = []\n",
    "for c in cbow_pairs:\n",
    "    skip_gram_pairs.append([c[1], c[0][0]])\n",
    "    skip_gram_pairs.append([c[1], c[0][1]])\n",
    "    \n",
    "print('skip_gram_pairs is %s and length is %d' % (type(skip_gram_pairs), len(skip_gram_pairs)))\n",
    "print('skip_gram_pairs:', skip_gram_pairs[:10])"
   ]
  },
  {
   "cell_type": "code",
   "execution_count": 12,
   "metadata": {
    "collapsed": false
   },
   "outputs": [
    {
     "name": "stdout",
     "output_type": "stream",
     "text": [
      "Batches (x, y): ([31, 17, 1], [[3], [22], [2]])\n"
     ]
    }
   ],
   "source": [
    "def generate_batch(size):\n",
    "    assert size < len(skip_gram_pairs)\n",
    "    x_data = []\n",
    "    y_data = []\n",
    "    r = np.random.choice(range(len(skip_gram_pairs)), size=size, replace=False)\n",
    "    \n",
    "    for i in r:\n",
    "        x_data.append(skip_gram_pairs[i][0])   # n dim\n",
    "        y_data.append([skip_gram_pairs[i][1]]) # n, 1 dim\n",
    "    return x_data, y_data\n",
    "\n",
    "#Generate batch test\n",
    "print('Batches (x, y):', generate_batch(3))"
   ]
  },
  {
   "cell_type": "markdown",
   "metadata": {},
   "source": [
    "# Construct network"
   ]
  },
  {
   "cell_type": "code",
   "execution_count": 13,
   "metadata": {
    "collapsed": false,
    "scrolled": true
   },
   "outputs": [],
   "source": [
    "#input data\n",
    "train_input = tf.placeholder(dtype=tf.int32, shape=[batch_size])\n",
    "#Need to shape [batch_size, 1] for nn.nce_loss\n",
    "train_label = tf.placeholder(dtype=tf.int32, shape=[batch_size, 1])\n",
    "\n",
    "#Look up embeddins for inputs\n",
    "embeddings = tf.Variable(tf.random_uniform([voc_size, embedding_size], -1.0, 1.0))\n",
    "embed = tf.nn.embedding_lookup(embeddings, train_input)  #Lookup table\n",
    "\n",
    "\n",
    "#Construct the variables for the NCE loss\n",
    "nce_weights = tf.Variable(tf.random_uniform([voc_size, embedding_size], -1.0, 1.0))\n",
    "nce_biases = tf.Variable(tf.zeros([voc_size]))\n",
    "\n",
    "#Compute the average NCE loss for batch\n",
    "loss = tf.reduce_mean(tf.nn.nce_loss(weights=nce_weights, \n",
    "                                     biases=nce_biases, \n",
    "                                     labels=train_label, \n",
    "                                     inputs=embed, \n",
    "                                     num_sampled=num_sampled, \n",
    "                                     num_classes=voc_size))\n",
    "\n",
    "#Use the adamoptimizer\n",
    "train_op = tf.train.AdamOptimizer(learning_rate=0.01).minimize(loss)"
   ]
  },
  {
   "cell_type": "markdown",
   "metadata": {},
   "source": [
    "# Training"
   ]
  },
  {
   "cell_type": "code",
   "execution_count": 14,
   "metadata": {
    "collapsed": false
   },
   "outputs": [
    {
     "name": "stdout",
     "output_type": "stream",
     "text": [
      "Loss at 0: 16.38064\n",
      "Loss at 500: 3.48483\n",
      "Loss at 1000: 3.26623\n",
      "Loss at 1500: 3.02590\n",
      "Loss at 2000: 3.20041\n",
      "Loss at 2500: 3.07135\n"
     ]
    }
   ],
   "source": [
    "init = tf.global_variables_initializer()\n",
    "\n",
    "with tf.Session() as sess:\n",
    "    sess.run(init)\n",
    "    \n",
    "    for step in range(3000):\n",
    "        batch_inputs, batch_labels = generate_batch(batch_size)\n",
    "        _, loss_val = sess.run([train_op, loss], feed_dict={train_input: batch_inputs, train_label: batch_labels})\n",
    "        \n",
    "        if step % 500 == 0:\n",
    "            print('Loss at %d: %.5f' % (step, loss_val))\n",
    "            \n",
    "    #Final embedings are ready to use\n",
    "    #Need to normalize for practical use\n",
    "    trained_embeddings = embeddings.eval()"
   ]
  },
  {
   "cell_type": "code",
   "execution_count": 15,
   "metadata": {
    "collapsed": false
   },
   "outputs": [
    {
     "data": {
      "text/plain": [
       "(35, 2)"
      ]
     },
     "execution_count": 15,
     "metadata": {},
     "output_type": "execute_result"
    }
   ],
   "source": [
    "trained_embeddings.shape"
   ]
  },
  {
   "cell_type": "markdown",
   "metadata": {},
   "source": [
    "# Plot result"
   ]
  },
  {
   "cell_type": "code",
   "execution_count": 18,
   "metadata": {
    "collapsed": false
   },
   "outputs": [
    {
     "data": {
      "image/png": "[encoded data removed]",
      "text/plain": [
       "<matplotlib.figure.Figure at 0x254a326efd0>"
      ]
     },
     "metadata": {},
     "output_type": "display_data"
    }
   ],
   "source": [
    "#Show word2vec if dim is 2\n",
    "if trained_embeddings.shape[1] == 2:\n",
    "    labels = r_dict[:35] #Show top 20 words\n",
    "    \n",
    "    for i, label in enumerate(labels):\n",
    "        x, y = trained_embeddings[i, :]\n",
    "        plt.scatter(x, y)\n",
    "        plt.annotate(label, xy=(x,y), xytext=(5,2), textcoords='offset points', ha='right', va='bottom')"
   ]
  }
 ],
 "metadata": {
  "anaconda-cloud": {},
  "kernelspec": {
   "display_name": "Python [conda root]",
   "language": "python",
   "name": "conda-root-py"
  },
  "language_info": {
   "codemirror_mode": {
    "name": "ipython",
    "version": 3
   },
   "file_extension": ".py",
   "mimetype": "text/x-python",
   "name": "python",
   "nbconvert_exporter": "python",
   "pygments_lexer": "ipython3",
   "version": "3.5.2"
  }
 },
 "nbformat": 4,
 "nbformat_minor": 1
}
