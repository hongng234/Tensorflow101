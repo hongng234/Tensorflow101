{
 "cells": [
  {
   "cell_type": "code",
   "execution_count": 1,
   "metadata": {
    "collapsed": false
   },
   "outputs": [
    {
     "name": "stderr",
     "output_type": "stream",
     "text": [
      "C:\\Users\\StrikeWade\\Anaconda3\\lib\\site-packages\\h5py\\__init__.py:36: FutureWarning: Conversion of the second argument of issubdtype from `float` to `np.floating` is deprecated. In future, it will be treated as `np.float64 == np.dtype(float).type`.\n",
      "  from ._conv import register_converters as _register_converters\n"
     ]
    }
   ],
   "source": [
    "import tensorflow as tf\n",
    "import numpy as np\n",
    "import matplotlib.pyplot as plt\n",
    "%matplotlib inline"
   ]
  },
  {
   "cell_type": "code",
   "execution_count": 18,
   "metadata": {
    "collapsed": false
   },
   "outputs": [
    {
     "name": "stdout",
     "output_type": "stream",
     "text": [
      " Type of 'train_X' is  <class 'numpy.ndarray'>\n",
      " Shape of 'train_X' is (1, 50)\n",
      " Type of 'train_Y' is  <class 'numpy.ndarray'>\n",
      " Shape of 'train_Y' is (1, 50)\n"
     ]
    },
    {
     "data": {
      "text/plain": [
       "<matplotlib.legend.Legend at 0x1b6f65ebf28>"
      ]
     },
     "execution_count": 18,
     "metadata": {},
     "output_type": "execute_result"
    },
    {
     "data": {
      "image/png": "[encoded data removed]",
      "text/plain": [
       "<matplotlib.figure.Figure at 0x1b6f65f0128>"
      ]
     },
     "metadata": {},
     "output_type": "display_data"
    }
   ],
   "source": [
    "#Generate training data\n",
    "np.random.seed(1)\n",
    "\n",
    "def f(x, a, b):\n",
    "    n    = train_X.size\n",
    "    vals = np.zeros((1, n))\n",
    "    for i in range(0, n):\n",
    "        ax  = np.multiply(a, x.item(i))\n",
    "        val = np.add(ax, b)\n",
    "        vals[0, i] = val\n",
    "    return vals\n",
    "\n",
    "Wref = 0.7\n",
    "bref = -1.\n",
    "n    = 50\n",
    "noise_var = 0.001\n",
    "\n",
    "train_X   = np.random.random((1, n))\n",
    "ref_Y     = f(train_X, Wref, bref)\n",
    "train_Y   = ref_Y + np.sqrt(noise_var)*np.random.randn(1, n)\n",
    "\n",
    "print (\" Type of 'train_X' is \", type(train_X))\n",
    "print (\" Shape of 'train_X' is %s\" % (train_X.shape,))\n",
    "print (\" Type of 'train_Y' is \", type(train_Y))\n",
    "print (\" Shape of 'train_Y' is %s\" % (train_Y.shape,))\n",
    "\n",
    "# Plot\n",
    "plt.figure(1)\n",
    "plt.plot(train_X[0, :], ref_Y[0, :], 'ro', label='Original data')\n",
    "plt.plot(train_X[0, :], train_Y[0, :], 'bo', label='Training data')\n",
    "plt.axis('equal')\n",
    "plt.legend(loc='lower right')"
   ]
  },
  {
   "cell_type": "code",
   "execution_count": 8,
   "metadata": {
    "collapsed": false
   },
   "outputs": [
    {
     "data": {
      "text/plain": [
       "array([[4.17022005e-01, 7.20324493e-01, 1.14374817e-04, 3.02332573e-01,\n",
       "        1.46755891e-01, 9.23385948e-02, 1.86260211e-01, 3.45560727e-01,\n",
       "        3.96767474e-01, 5.38816734e-01, 4.19194514e-01, 6.85219500e-01,\n",
       "        2.04452250e-01, 8.78117436e-01, 2.73875932e-02, 6.70467510e-01,\n",
       "        4.17304802e-01, 5.58689828e-01, 1.40386939e-01, 1.98101489e-01]])"
      ]
     },
     "execution_count": 8,
     "metadata": {},
     "output_type": "execute_result"
    }
   ],
   "source": [
    "train_X"
   ]
  },
  {
   "cell_type": "code",
   "execution_count": 9,
   "metadata": {
    "collapsed": false
   },
   "outputs": [
    {
     "data": {
      "text/plain": [
       "array([[-0.7080846 , -0.49577285, -0.99991994, -0.7883672 , -0.89727088,\n",
       "        -0.93536298, -0.86961785, -0.75810749, -0.72226277, -0.62282829,\n",
       "        -0.70656384, -0.52034635, -0.85688343, -0.38531779, -0.98082868,\n",
       "        -0.53067274, -0.70788664, -0.60891712, -0.90172914, -0.86132896]])"
      ]
     },
     "execution_count": 9,
     "metadata": {},
     "output_type": "execute_result"
    }
   ],
   "source": [
    "ref_Y"
   ]
  },
  {
   "cell_type": "code",
   "execution_count": 10,
   "metadata": {
    "collapsed": false
   },
   "outputs": [
    {
     "data": {
      "text/plain": [
       "array([[-0.67223166, -0.53055447, -1.0053726 , -0.81612752, -0.89593596,\n",
       "        -0.91693275, -0.90442249, -0.72190815, -0.69375197, -0.60693802,\n",
       "        -0.67807627, -0.54196772, -0.86076956, -0.41490942, -0.98930005,\n",
       "        -0.51390143, -0.72975887, -0.62146357, -0.92345945, -0.88805671]])"
      ]
     },
     "execution_count": 10,
     "metadata": {},
     "output_type": "execute_result"
    }
   ],
   "source": [
    "train_Y"
   ]
  },
  {
   "cell_type": "code",
   "execution_count": 27,
   "metadata": {
    "collapsed": false,
    "scrolled": true
   },
   "outputs": [],
   "source": [
    "#Linear Regression\n",
    "\n",
    "#Params\n",
    "training_epochs = 2000\n",
    "display_step = 100\n",
    "\n",
    "#Set TF graph\n",
    "X = tf.placeholder(dtype=tf.float32, name='input')\n",
    "Y = tf.placeholder(dtype=tf.float32, name='output')\n",
    "\n",
    "#Weights and Biases\n",
    "W = tf.Variable(np.random.randn(), name='weight')\n",
    "b = tf.Variable(np.random.randn(), name='bias')\n",
    "\n",
    "#Activation\n",
    "activation = tf.add(tf.multiply(X, W), b)\n",
    "\n",
    "#Loss and optimizer\n",
    "learning_rate = 0.01\n",
    "loss = tf.reduce_mean(tf.pow(activation-Y, 2))\n",
    "\n",
    "optimizer = tf.train.GradientDescentOptimizer(learning_rate).minimize(loss) #Gradient descent\n",
    "\n",
    "#Init\n",
    "init = tf.global_variables_initializer()"
   ]
  },
  {
   "cell_type": "code",
   "execution_count": 29,
   "metadata": {
    "collapsed": false,
    "scrolled": true
   },
   "outputs": [
    {
     "name": "stdout",
     "output_type": "stream",
     "text": [
      "Epoch: 0001, cost= 0.08565\n",
      "Wtemp is: -0.2453, btemp is: -0.5604\n",
      "Wref is: 0.7000, bref is: -1.0000\n",
      "Epoch: 0101, cost= 0.00082\n",
      "Wtemp is: 0.7073, btemp is: -0.9992\n",
      "Wref is: 0.7000, bref is: -1.0000\n",
      "Epoch: 0201, cost= 0.00082\n",
      "Wtemp is: 0.7078, btemp is: -0.9995\n",
      "Wref is: 0.7000, bref is: -1.0000\n",
      "Epoch: 0301, cost= 0.00082\n",
      "Wtemp is: 0.7078, btemp is: -0.9995\n",
      "Wref is: 0.7000, bref is: -1.0000\n",
      "Epoch: 0401, cost= 0.00082\n",
      "Wtemp is: 0.7078, btemp is: -0.9995\n",
      "Wref is: 0.7000, bref is: -1.0000\n",
      "Epoch: 0501, cost= 0.00082\n",
      "Wtemp is: 0.7078, btemp is: -0.9995\n",
      "Wref is: 0.7000, bref is: -1.0000\n",
      "Epoch: 0601, cost= 0.00082\n",
      "Wtemp is: 0.7078, btemp is: -0.9995\n",
      "Wref is: 0.7000, bref is: -1.0000\n",
      "Epoch: 0701, cost= 0.00082\n",
      "Wtemp is: 0.7078, btemp is: -0.9995\n",
      "Wref is: 0.7000, bref is: -1.0000\n",
      "Epoch: 0801, cost= 0.00082\n",
      "Wtemp is: 0.7078, btemp is: -0.9995\n",
      "Wref is: 0.7000, bref is: -1.0000\n",
      "Epoch: 0901, cost= 0.00082\n",
      "Wtemp is: 0.7078, btemp is: -0.9995\n",
      "Wref is: 0.7000, bref is: -1.0000\n",
      "Epoch: 1001, cost= 0.00082\n",
      "Wtemp is: 0.7078, btemp is: -0.9995\n",
      "Wref is: 0.7000, bref is: -1.0000\n",
      "Epoch: 1101, cost= 0.00082\n",
      "Wtemp is: 0.7078, btemp is: -0.9995\n",
      "Wref is: 0.7000, bref is: -1.0000\n",
      "Epoch: 1201, cost= 0.00082\n",
      "Wtemp is: 0.7078, btemp is: -0.9995\n",
      "Wref is: 0.7000, bref is: -1.0000\n",
      "Epoch: 1301, cost= 0.00082\n",
      "Wtemp is: 0.7078, btemp is: -0.9995\n",
      "Wref is: 0.7000, bref is: -1.0000\n",
      "Epoch: 1401, cost= 0.00082\n",
      "Wtemp is: 0.7078, btemp is: -0.9995\n",
      "Wref is: 0.7000, bref is: -1.0000\n",
      "Epoch: 1501, cost= 0.00082\n",
      "Wtemp is: 0.7078, btemp is: -0.9995\n",
      "Wref is: 0.7000, bref is: -1.0000\n",
      "Epoch: 1601, cost= 0.00082\n",
      "Wtemp is: 0.7078, btemp is: -0.9995\n",
      "Wref is: 0.7000, bref is: -1.0000\n",
      "Epoch: 1701, cost= 0.00082\n",
      "Wtemp is: 0.7078, btemp is: -0.9995\n",
      "Wref is: 0.7000, bref is: -1.0000\n",
      "Epoch: 1801, cost= 0.00082\n",
      "Wtemp is: 0.7078, btemp is: -0.9995\n",
      "Wref is: 0.7000, bref is: -1.0000\n",
      "Epoch: 1901, cost= 0.00082\n",
      "Wtemp is: 0.7078, btemp is: -0.9995\n",
      "Wref is: 0.7000, bref is: -1.0000\n"
     ]
    }
   ],
   "source": [
    "#Training phase\n",
    "sess = tf.Session()\n",
    "#Init\n",
    "sess.run(init)\n",
    "\n",
    "for epoch in range(training_epochs):\n",
    "    for (x, y) in zip(train_X[0,:], train_Y[0,:]):\n",
    "#         print('x: ', x, 'y: ', y)\n",
    "        sess.run(optimizer, feed_dict={X:x, Y:y})\n",
    "        \n",
    "    #Check loss\n",
    "    if epoch % display_step == 0:\n",
    "        lossval = sess.run(loss, feed_dict={X: train_X, Y: train_Y})\n",
    "        print('Epoch: %04d, cost= %.5f' % (epoch+1, lossval))\n",
    "        Wtemp = sess.run(W)\n",
    "        btemp = sess.run(b)\n",
    "        print('Wtemp is: %.4f, btemp is: %.4f' % (Wtemp, btemp))\n",
    "        print('Wref is: %.4f, bref is: %.4f' % (Wref, bref))\n",
    "    "
   ]
  },
  {
   "cell_type": "code",
   "execution_count": 30,
   "metadata": {
    "collapsed": false
   },
   "outputs": [
    {
     "data": {
      "text/plain": [
       "<matplotlib.legend.Legend at 0x1b68fdd3710>"
      ]
     },
     "execution_count": 30,
     "metadata": {},
     "output_type": "execute_result"
    },
    {
     "data": {
      "image/png": "[encoded data removed]",
      "text/plain": [
       "<matplotlib.figure.Figure at 0x1b6f6979978>"
      ]
     },
     "metadata": {},
     "output_type": "display_data"
    }
   ],
   "source": [
    "#Final W and b\n",
    "W_final = sess.run(W)\n",
    "b_final = sess.run(b)\n",
    "f_final = f(train_X, W_final, b_final)\n",
    "\n",
    "#Plot results\n",
    "plt.figure(1)\n",
    "plt.plot(train_X[0, :], ref_Y[0, :], 'ro', label='Original Data')\n",
    "plt.plot(train_X[0, :], train_Y[0, :], 'bo', label='Training Data')\n",
    "plt.plot(train_X[0, :], f_final[0, :], 'k-', label='Fitted Line')\n",
    "plt.axis('equal')\n",
    "plt.legend(loc='lower right')"
   ]
  },
  {
   "cell_type": "code",
   "execution_count": null,
   "metadata": {
    "collapsed": true
   },
   "outputs": [],
   "source": []
  }
 ],
 "metadata": {
  "anaconda-cloud": {},
  "kernelspec": {
   "display_name": "Python [conda root]",
   "language": "python",
   "name": "conda-root-py"
  },
  "language_info": {
   "codemirror_mode": {
    "name": "ipython",
    "version": 3
   },
   "file_extension": ".py",
   "mimetype": "text/x-python",
   "name": "python",
   "nbconvert_exporter": "python",
   "pygments_lexer": "ipython3",
   "version": "3.5.2"
  }
 },
 "nbformat": 4,
 "nbformat_minor": 1
}
