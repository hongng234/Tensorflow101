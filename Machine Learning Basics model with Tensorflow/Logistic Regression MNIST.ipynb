{
 "cells": [
  {
   "cell_type": "markdown",
   "metadata": {},
   "source": [
    "# Logistic Regression with MNIST"
   ]
  },
  {
   "cell_type": "code",
   "execution_count": 1,
   "metadata": {
    "collapsed": false
   },
   "outputs": [
    {
     "name": "stderr",
     "output_type": "stream",
     "text": [
      "C:\\Users\\StrikeWade\\Anaconda3\\lib\\site-packages\\h5py\\__init__.py:36: FutureWarning: Conversion of the second argument of issubdtype from `float` to `np.floating` is deprecated. In future, it will be treated as `np.float64 == np.dtype(float).type`.\n",
      "  from ._conv import register_converters as _register_converters\n",
      "Using TensorFlow backend.\n"
     ]
    }
   ],
   "source": [
    "import numpy as np\n",
    "import tensorflow as tf\n",
    "import matplotlib.pyplot as plt\n",
    "from tensorflow.examples.tutorials.mnist import input_data\n",
    "\n",
    "from keras import backend as K\n",
    "\n",
    "#Clear TF memory\n",
    "cfg = K.tf.ConfigProto()\n",
    "cfg.gpu_options.allow_growth = True\n",
    "K.set_session(K.tf.Session(config=cfg))"
   ]
  },
  {
   "cell_type": "code",
   "execution_count": 2,
   "metadata": {
    "collapsed": false
   },
   "outputs": [
    {
     "name": "stdout",
     "output_type": "stream",
     "text": [
      "Extracting ../Basic TF & things/mnist\\train-images-idx3-ubyte.gz\n",
      "Extracting ../Basic TF & things/mnist\\train-labels-idx1-ubyte.gz\n",
      "Extracting ../Basic TF & things/mnist\\t10k-images-idx3-ubyte.gz\n",
      "Extracting ../Basic TF & things/mnist\\t10k-labels-idx1-ubyte.gz\n"
     ]
    }
   ],
   "source": [
    "mnist = input_data.read_data_sets('../Basic TF & things/mnist', one_hot=True)"
   ]
  },
  {
   "cell_type": "markdown",
   "metadata": {},
   "source": [
    "# Create Tensor graph"
   ]
  },
  {
   "cell_type": "code",
   "execution_count": 3,
   "metadata": {
    "collapsed": true
   },
   "outputs": [],
   "source": [
    "#Placeholder\n",
    "x = tf.placeholder(dtype=tf.float32, shape=[None, 784])\n",
    "y = tf.placeholder(dtype=tf.float32, shape=[None, 10]) #None is for infinite\n",
    "\n",
    "#Weights & Biases\n",
    "# W = tf.Variable(tf.zeros([784, 10]))\n",
    "# b = tf.Variable(tf.zeros([10]))\n",
    "#--> Test accuracy is 91.8 %\n",
    "W = tf.Variable(tf.random_normal([784, 10]))\n",
    "b = tf.Variable(tf.random_normal([10]))\n",
    "#-- Test accuracy is 85%\n",
    "\n",
    "#Logistic regression model\n",
    "activation = tf.nn.softmax(tf.matmul(x, W) + b)\n",
    "\n",
    "#Loss function\n",
    "loss = tf.reduce_mean(-tf.reduce_sum(y*tf.log(activation), reduction_indices=1))\n",
    "\n",
    "#Optimizer\n",
    "learning_rate = 0.01\n",
    "optimizer = tf.train.GradientDescentOptimizer(learning_rate=learning_rate).minimize(loss) #Gradient Descent"
   ]
  },
  {
   "cell_type": "markdown",
   "metadata": {},
   "source": [
    "# Prediction and accuracy"
   ]
  },
  {
   "cell_type": "code",
   "execution_count": 4,
   "metadata": {
    "collapsed": true
   },
   "outputs": [],
   "source": [
    "#Prediction\n",
    "y_pred = tf.equal(tf.argmax(activation, 1), tf.argmax(y,1))\n",
    "\n",
    "#Accuracy\n",
    "accuracy = tf.reduce_mean(tf.cast(x=y_pred, dtype=tf.float32))\n",
    "\n",
    "#Init\n",
    "init = tf.global_variables_initializer()"
   ]
  },
  {
   "cell_type": "markdown",
   "metadata": {},
   "source": [
    "# Train model"
   ]
  },
  {
   "cell_type": "code",
   "execution_count": 5,
   "metadata": {
    "collapsed": false,
    "scrolled": true
   },
   "outputs": [
    {
     "name": "stdout",
     "output_type": "stream",
     "text": [
      "Epoch: 000/050, loss= 7.9608, \n",
      "    Train_accuracy= 0.340\n",
      "    Test_accuracy= 0.317\n",
      "Epoch: 010/050, loss= 1.3568, \n",
      "    Train_accuracy= 0.690\n",
      "    Test_accuracy= 0.758\n",
      "Epoch: 020/050, loss= 0.9882, \n",
      "    Train_accuracy= 0.810\n",
      "    Test_accuracy= 0.811\n",
      "Epoch: 030/050, loss= 0.8340, \n",
      "    Train_accuracy= 0.850\n",
      "    Test_accuracy= 0.837\n",
      "Epoch: 040/050, loss= 0.7428, \n",
      "    Train_accuracy= 0.840\n",
      "    Test_accuracy= 0.850\n",
      "Number of batches is:  550\n"
     ]
    }
   ],
   "source": [
    "training_epochs = 50\n",
    "batch_size = 100\n",
    "display_step = 10\n",
    "\n",
    "#Session\n",
    "sess = tf.Session()\n",
    "sess.run(init)\n",
    "\n",
    "#Mini-batch Learning\n",
    "for epoch in range(training_epochs):\n",
    "    avg_loss = 0\n",
    "    num_batch = int(mnist.train.num_examples/batch_size)\n",
    "    \n",
    "    for i in range(num_batch):\n",
    "        batch_x, batch_y = mnist.train.next_batch(batch_size)\n",
    "        sess.run(optimizer, feed_dict={x: batch_x, y: batch_y})\n",
    "        avg_loss += sess.run(loss, feed_dict={x: batch_x, y: batch_y}) / num_batch\n",
    "    \n",
    "    #Display each epoch\n",
    "    if epoch % display_step == 0:\n",
    "        train_accuracy = sess.run(accuracy, feed_dict={x: batch_x, y: batch_y})\n",
    "        test_accuracy = sess.run(accuracy, feed_dict={x: mnist.test.images, y: mnist.test.labels})\n",
    "        \n",
    "        print('Epoch: %03d/%03d, loss= %.4f, \\n    Train_accuracy= %.3f\\n    Test_accuracy= %.3f' % (epoch, training_epochs, avg_loss, train_accuracy, test_accuracy))\n",
    "        \n",
    "print('Number of batches is: ', num_batch)"
   ]
  },
  {
   "cell_type": "code",
   "execution_count": null,
   "metadata": {
    "collapsed": true
   },
   "outputs": [],
   "source": []
  },
  {
   "cell_type": "code",
   "execution_count": null,
   "metadata": {
    "collapsed": true
   },
   "outputs": [],
   "source": []
  },
  {
   "cell_type": "code",
   "execution_count": null,
   "metadata": {
    "collapsed": true
   },
   "outputs": [],
   "source": []
  },
  {
   "cell_type": "code",
   "execution_count": null,
   "metadata": {
    "collapsed": true
   },
   "outputs": [],
   "source": []
  }
 ],
 "metadata": {
  "kernelspec": {
   "display_name": "Python [conda root]",
   "language": "python",
   "name": "conda-root-py"
  },
  "language_info": {
   "codemirror_mode": {
    "name": "ipython",
    "version": 3
   },
   "file_extension": ".py",
   "mimetype": "text/x-python",
   "name": "python",
   "nbconvert_exporter": "python",
   "pygments_lexer": "ipython3",
   "version": "3.5.2"
  }
 },
 "nbformat": 4,
 "nbformat_minor": 1
}
