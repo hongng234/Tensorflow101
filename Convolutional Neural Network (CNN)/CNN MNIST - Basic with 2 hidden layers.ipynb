{
 "cells": [
  {
   "cell_type": "code",
   "execution_count": 1,
   "metadata": {
    "collapsed": false
   },
   "outputs": [
    {
     "name": "stderr",
     "output_type": "stream",
     "text": [
      "C:\\Users\\StrikeWade\\Anaconda3\\lib\\site-packages\\h5py\\__init__.py:36: FutureWarning: Conversion of the second argument of issubdtype from `float` to `np.floating` is deprecated. In future, it will be treated as `np.float64 == np.dtype(float).type`.\n",
      "  from ._conv import register_converters as _register_converters\n",
      "Using TensorFlow backend.\n"
     ]
    },
    {
     "name": "stdout",
     "output_type": "stream",
     "text": [
      "Extracting ../Basic TF & things/mnist/train-images-idx3-ubyte.gz\n",
      "Extracting ../Basic TF & things/mnist/train-labels-idx1-ubyte.gz\n",
      "Extracting ../Basic TF & things/mnist/t10k-images-idx3-ubyte.gz\n",
      "Extracting ../Basic TF & things/mnist/t10k-labels-idx1-ubyte.gz\n"
     ]
    }
   ],
   "source": [
    "import numpy as np\n",
    "import tensorflow as tf\n",
    "import matplotlib.pyplot as plt\n",
    "from tensorflow.examples.tutorials.mnist import input_data\n",
    "%matplotlib inline\n",
    "\n",
    "from keras import backend as K\n",
    "\n",
    "#Clear TF memory\n",
    "cfg = K.tf.ConfigProto()\n",
    "cfg.gpu_options.allow_growth = True\n",
    "K.set_session(K.tf.Session(config=cfg))\n",
    "\n",
    "mnist = input_data.read_data_sets('../Basic TF & things/mnist/', one_hot=True)"
   ]
  },
  {
   "cell_type": "markdown",
   "metadata": {},
   "source": [
    "# Select GPU to be used"
   ]
  },
  {
   "cell_type": "code",
   "execution_count": 2,
   "metadata": {
    "collapsed": true
   },
   "outputs": [],
   "source": [
    "device_type = '/gpu:0'"
   ]
  },
  {
   "cell_type": "markdown",
   "metadata": {},
   "source": [
    "# Define Params and Network Params"
   ]
  },
  {
   "cell_type": "code",
   "execution_count": 3,
   "metadata": {
    "collapsed": true
   },
   "outputs": [],
   "source": [
    "#Params\n",
    "learning_rate = 0.001\n",
    "epochs = 20\n",
    "batch_size = 100\n",
    "display_step = 5\n",
    "keep = 0.7\n",
    "\n",
    "#Network Params\n",
    "n_input = 784                           #input features (imageshape 28*28)\n",
    "n_classes = mnist.train.labels.shape[1] #number of output ditgits 0 -> 9\n",
    "\n",
    "#Placeholder\n",
    "x = tf.placeholder(dtype=tf.float32, shape=[None, n_input])\n",
    "y = tf.placeholder(dtype=tf.float32, shape=[None, n_classes])\n",
    "keep_prob = tf.placeholder(dtype=tf.float32)\n",
    "\n",
    "#Weights and Biases\n",
    "stddev = 0.1\n",
    "\n",
    "weights = {\n",
    "    'wc1': tf.Variable(tf.truncated_normal(shape=[3,3,1,64], stddev=stddev)),\n",
    "    'wc2': tf.Variable(tf.truncated_normal(shape=[3,3,64,128], stddev=stddev)),\n",
    "    'wd1': tf.Variable(tf.truncated_normal(shape=[7*7*128, 1024], stddev=stddev)),\n",
    "    'wd2': tf.Variable(tf.truncated_normal(shape=[1024, n_classes], stddev=stddev))\n",
    "}\n",
    "\n",
    "biases = {\n",
    "    'bc1': tf.Variable(tf.random_normal(shape=[64], stddev=stddev)),\n",
    "    'bc2': tf.Variable(tf.random_normal(shape=[128], stddev=stddev)),\n",
    "    'bd1': tf.Variable(tf.random_normal(shape=[1024], stddev=stddev)),\n",
    "    'bd2': tf.Variable(tf.random_normal(shape=[n_classes], stddev=stddev))\n",
    "}"
   ]
  },
  {
   "cell_type": "markdown",
   "metadata": {},
   "source": [
    "# Define CNN basic function"
   ]
  },
  {
   "cell_type": "code",
   "execution_count": 4,
   "metadata": {
    "collapsed": false
   },
   "outputs": [],
   "source": [
    "def conv_basic(x, weights, biases, keep_prob):\n",
    "    #reshape input from [784] -> [-1, 28, 28, 1]\n",
    "    input_r = tf.reshape(x, shape=[-1, 28, 28, 1])\n",
    "    \n",
    "    #Conv layer 1\n",
    "    conv1 = tf.nn.conv2d(input_r, filter=weights['wc1'], strides=[1,1,1,1], padding='SAME')\n",
    "    mean, variance = tf.nn.moments(conv1, axes=[0,1,2]) #Calculate the mean and variance of the conv1, more than 1-D axes = [0,1,2], 1-D axes = [0]\n",
    "    conv1 = tf.nn.batch_normalization(conv1, mean=mean, variance=variance, offset=0, scale=1, variance_epsilon=0.0001)\n",
    "    conv1 = tf.nn.relu(tf.nn.bias_add(conv1, bias=biases['bc1']))\n",
    "    pool1 = tf.nn.max_pool(conv1, ksize=[1,2,2,1], strides=[1,2,2,1], padding='SAME')\n",
    "    pool1_dr = tf.nn.dropout(pool1, keep_prob=keep_prob)\n",
    "    \n",
    "    #Conv layer 2\n",
    "    conv2 = tf.nn.conv2d(pool1_dr, filter=weights['wc2'], strides=[1,1,1,1], padding='SAME')\n",
    "    mean, variance = tf.nn.moments(conv2, axes=[0,1,2])\n",
    "    conv2 = tf.nn.batch_normalization(conv2, mean=mean, variance=variance, offset=0, scale=1, variance_epsilon=0.0001)\n",
    "    conv2 = tf.nn.relu(tf.nn.bias_add(conv2, bias=biases['bc2']))\n",
    "    pool2 = tf.nn.max_pool(conv2, ksize=[1,2,2,1], strides=[1,2,2,1], padding='SAME')\n",
    "    pool2_dr = tf.nn.dropout(pool2, keep_prob=keep_prob)\n",
    "    \n",
    "    #Vectorize\n",
    "    dense = tf.reshape(pool2_dr, shape=[-1, weights['wd1'].get_shape().as_list()[0]])\n",
    "    \n",
    "    #Fully connected layer 1\n",
    "    fc1 = tf.nn.relu(tf.add(tf.matmul(dense, weights['wd1']), biases['bd1']))\n",
    "    fc1_dr = tf.nn.dropout(fc1, keep_prob=keep_prob)\n",
    "    \n",
    "    #Fully connected layer 2\n",
    "    out = tf.add(tf.matmul(fc1_dr, weights['wd2']), biases['bd2'])\n",
    "    \n",
    "    #Return all the layers\n",
    "    out = {\n",
    "        'input_r': input_r,\n",
    "        'conv1': conv1,\n",
    "        'pool1': pool1,\n",
    "        'pool1_dr': pool1_dr,\n",
    "        'conv2': conv2,\n",
    "        'pool2': pool2,\n",
    "        'pool2_dr': pool2_dr,\n",
    "        'dense': dense,\n",
    "        'fc1': fc1,\n",
    "        'fc1_dr': fc1_dr,\n",
    "        'out': out,\n",
    "    }\n",
    "    \n",
    "    return out"
   ]
  },
  {
   "cell_type": "markdown",
   "metadata": {},
   "source": [
    "# Define other functions conputation graph"
   ]
  },
  {
   "cell_type": "code",
   "execution_count": 5,
   "metadata": {
    "collapsed": false
   },
   "outputs": [
    {
     "name": "stdout",
     "output_type": "stream",
     "text": [
      "WARNING:tensorflow:From <ipython-input-5-25135f275555>:4: softmax_cross_entropy_with_logits (from tensorflow.python.ops.nn_ops) is deprecated and will be removed in a future version.\n",
      "Instructions for updating:\n",
      "\n",
      "Future major versions of TensorFlow will allow gradients to flow\n",
      "into the labels input on backprop by default.\n",
      "\n",
      "See tf.nn.softmax_cross_entropy_with_logits_v2.\n",
      "\n"
     ]
    }
   ],
   "source": [
    "y_pred = conv_basic(x, weights, biases, keep_prob)['out']\n",
    "\n",
    "#Define loss function and optimizer\n",
    "loss = tf.reduce_mean(tf.nn.softmax_cross_entropy_with_logits(logits=y_pred, labels=y))\n",
    "optimizer = tf.train.AdamOptimizer(learning_rate=learning_rate).minimize(loss)\n",
    "\n",
    "#Define correct_pred and accuracry functions\n",
    "correct_pred = tf.equal(tf.argmax(y_pred, 1), tf.argmax(y, 1))\n",
    "accuracy = tf.reduce_mean(tf.cast(correct_pred, dtype=tf.float32))\n",
    "\n",
    "#Init function\n",
    "init = tf.global_variables_initializer()\n",
    "\n",
    "#Saver function to save model\n",
    "save_step = 1\n",
    "saver = tf.train.Saver(max_to_keep=3)"
   ]
  },
  {
   "cell_type": "markdown",
   "metadata": {},
   "source": [
    "# Training Phase"
   ]
  },
  {
   "cell_type": "code",
   "execution_count": 6,
   "metadata": {
    "collapsed": true
   },
   "outputs": [],
   "source": [
    "do_train = 1\n",
    "sess = tf.Session(config=tf.ConfigProto(allow_soft_placement=True))\n",
    "sess.run(init)"
   ]
  },
  {
   "cell_type": "code",
   "execution_count": 7,
   "metadata": {
    "collapsed": false
   },
   "outputs": [
    {
     "name": "stdout",
     "output_type": "stream",
     "text": [
      "Epoch: 000/020,     loss: 0.7004\n",
      "-->    Training Accuracy:  0.97\n",
      "-->    Test Accuracy:  0.9662\n",
      "Epoch: 005/020,     loss: 0.0353\n",
      "-->    Training Accuracy:  0.99\n",
      "-->    Test Accuracy:  0.99\n",
      "Epoch: 010/020,     loss: 0.0191\n",
      "-->    Training Accuracy:  0.98\n",
      "-->    Test Accuracy:  0.9906\n",
      "Epoch: 015/020,     loss: 0.0099\n",
      "-->    Training Accuracy:  1.0\n",
      "-->    Test Accuracy:  0.9916\n",
      "Last Accuracy for test set:  0.9916\n"
     ]
    }
   ],
   "source": [
    "for epoch in range(epochs):\n",
    "    avg_loss = 0\n",
    "    total_batch = int(mnist.train.num_examples/batch_size)\n",
    "    \n",
    "    #Loop over all batches\n",
    "    for i in range(total_batch):\n",
    "        batch_x, batch_y = mnist.train.next_batch(batch_size)\n",
    "        #Fit training using batch data\n",
    "        sess.run(optimizer, feed_dict={x: batch_x, y: batch_y, keep_prob: keep})\n",
    "        \n",
    "        #Compute avg loss\n",
    "        avg_loss += sess.run(loss, feed_dict={x: batch_x, y: batch_y, keep_prob:1.0}) / total_batch\n",
    "        \n",
    "    #Display logs per epoch step\n",
    "    if epoch % display_step == 0:\n",
    "        print('Epoch: %03d/%03d,     loss: %.4f' % (epoch, epochs, avg_loss))\n",
    "        training_accuracy = sess.run(accuracy, feed_dict={x: batch_x, y: batch_y, keep_prob: 1.0})\n",
    "        test_accuracy = sess.run(accuracy, feed_dict={x: mnist.test.images, y: mnist.test.labels, keep_prob: 1.0})\n",
    "        print('-->    Training Accuracy: ', training_accuracy)\n",
    "        print('-->    Test Accuracy: ', test_accuracy)\n",
    "        \n",
    "    #Save model\n",
    "    if epoch % save_step == 0:\n",
    "        saver.save(sess=sess, save_path= 'saved_models/cnn_mnist_basic.ckpt-' + str(epoch))\n",
    "        \n",
    "print('Last Accuracy for test set: ', test_accuracy)"
   ]
  },
  {
   "cell_type": "markdown",
   "metadata": {},
   "source": [
    "# Build Confusion matrix"
   ]
  },
  {
   "cell_type": "code",
   "execution_count": 24,
   "metadata": {
    "collapsed": true
   },
   "outputs": [],
   "source": [
    "#Build Confusion matrix plot function\n",
    "\n",
    "from sklearn.metrics import confusion_matrix\n",
    "\n",
    "def plot_confusion_matrix(cm, classes,\n",
    "                          normalize=False,\n",
    "                          title='Confusion matrix',\n",
    "                          cmap=plt.cm.Blues):\n",
    "    import itertools\n",
    "    \"\"\"\n",
    "    This function prints and plots the confusion matrix.\n",
    "    Normalization can be applied by setting `normalize=True`.\n",
    "    \"\"\"\n",
    "    if normalize:\n",
    "        cm = cm.astype('float') / cm.sum(axis=1)[:, np.newaxis]\n",
    "        print(\"Normalized confusion matrix\")\n",
    "    else:\n",
    "        print('Confusion matrix, without normalization')\n",
    "\n",
    "    print(cm)\n",
    "\n",
    "    plt.imshow(cm, interpolation='nearest', cmap=cmap)\n",
    "    plt.title(title)\n",
    "    plt.colorbar()\n",
    "    tick_marks = np.arange(len(classes))\n",
    "    plt.xticks(tick_marks, classes, rotation=45)\n",
    "    plt.yticks(tick_marks, classes)\n",
    "\n",
    "    fmt = '.2f' if normalize else 'd'\n",
    "    thresh = cm.max() / 2.\n",
    "    for i, j in itertools.product(range(cm.shape[0]), range(cm.shape[1])):\n",
    "        plt.text(j, i, format(cm[i, j], fmt),\n",
    "                 horizontalalignment=\"center\",\n",
    "                 color=\"white\" if cm[i, j] > thresh else \"black\")\n",
    "\n",
    "    plt.tight_layout()\n",
    "    plt.ylabel('True label')\n",
    "    plt.xlabel('Predicted label')"
   ]
  },
  {
   "cell_type": "code",
   "execution_count": 26,
   "metadata": {
    "collapsed": false
   },
   "outputs": [],
   "source": [
    "#y_test labels and predicted test labels from the model\n",
    "y_test = mnist.test.labels\n",
    "y_test = np.argmax(y_test, 1)\n",
    "\n",
    "predicted = sess.run(y_pred, feed_dict={x: mnist.test.images, y: mnist.test.labels, keep_prob: 1.0})\n",
    "predicted = np.argmax(predicted, 1)"
   ]
  },
  {
   "cell_type": "code",
   "execution_count": 27,
   "metadata": {
    "collapsed": false
   },
   "outputs": [
    {
     "data": {
      "text/plain": [
       "array([7, 2, 1, ..., 4, 5, 6], dtype=int64)"
      ]
     },
     "execution_count": 27,
     "metadata": {},
     "output_type": "execute_result"
    }
   ],
   "source": [
    "y_test"
   ]
  },
  {
   "cell_type": "code",
   "execution_count": 28,
   "metadata": {
    "collapsed": false
   },
   "outputs": [
    {
     "data": {
      "text/plain": [
       "array([7, 2, 1, ..., 4, 5, 6], dtype=int64)"
      ]
     },
     "execution_count": 28,
     "metadata": {},
     "output_type": "execute_result"
    }
   ],
   "source": [
    "predicted"
   ]
  },
  {
   "cell_type": "code",
   "execution_count": 30,
   "metadata": {
    "collapsed": false
   },
   "outputs": [
    {
     "data": {
      "text/plain": [
       "(10, 10)"
      ]
     },
     "execution_count": 30,
     "metadata": {},
     "output_type": "execute_result"
    }
   ],
   "source": [
    "cfs_matrix = confusion_matrix(y_pred=predicted, y_true=y_test)\n",
    "cfs_matrix.shape"
   ]
  },
  {
   "cell_type": "code",
   "execution_count": 31,
   "metadata": {
    "collapsed": false
   },
   "outputs": [
    {
     "name": "stdout",
     "output_type": "stream",
     "text": [
      "Confusion matrix, without normalization\n",
      "[[ 977    0    0    0    0    0    2    0    0    1]\n",
      " [   0 1133    0    0    0    0    1    0    1    0]\n",
      " [   1    1 1023    0    1    0    0    6    0    0]\n",
      " [   0    0    0 1004    0    4    0    1    1    0]\n",
      " [   0    0    1    0  976    0    3    0    0    2]\n",
      " [   2    0    0    2    0  887    1    0    0    0]\n",
      " [   5    2    0    0    1    3  947    0    0    0]\n",
      " [   0    4    2    0    0    0    0 1017    1    4]\n",
      " [   2    0    1    1    0    1    0    2  965    2]\n",
      " [   0    3    0    0    5    3    0    0    2  996]]\n"
     ]
    },
    {
     "data": {
      "image/png": "[encoded data removed]",
      "text/plain": [
       "<matplotlib.figure.Figure at 0x17c8ca913c8>"
      ]
     },
     "metadata": {},
     "output_type": "display_data"
    }
   ],
   "source": [
    "classes_name = np.array(['0','1','2','3','4','5','6','7','8','9',])\n",
    "\n",
    "#Plot non_normalized confusion matrix\n",
    "plt.figure()\n",
    "plot_confusion_matrix(cm=cfs_matrix, classes=classes_name, title='Confusion matrix, without normalization')"
   ]
  },
  {
   "cell_type": "code",
   "execution_count": null,
   "metadata": {
    "collapsed": true
   },
   "outputs": [],
   "source": []
  },
  {
   "cell_type": "code",
   "execution_count": null,
   "metadata": {
    "collapsed": true
   },
   "outputs": [],
   "source": []
  },
  {
   "cell_type": "code",
   "execution_count": null,
   "metadata": {
    "collapsed": true
   },
   "outputs": [],
   "source": []
  },
  {
   "cell_type": "code",
   "execution_count": null,
   "metadata": {
    "collapsed": true
   },
   "outputs": [],
   "source": []
  },
  {
   "cell_type": "code",
   "execution_count": null,
   "metadata": {
    "collapsed": true
   },
   "outputs": [],
   "source": []
  }
 ],
 "metadata": {
  "anaconda-cloud": {},
  "kernelspec": {
   "display_name": "Python [conda root]",
   "language": "python",
   "name": "conda-root-py"
  },
  "language_info": {
   "codemirror_mode": {
    "name": "ipython",
    "version": 3
   },
   "file_extension": ".py",
   "mimetype": "text/x-python",
   "name": "python",
   "nbconvert_exporter": "python",
   "pygments_lexer": "ipython3",
   "version": "3.5.2"
  }
 },
 "nbformat": 4,
 "nbformat_minor": 1
}
